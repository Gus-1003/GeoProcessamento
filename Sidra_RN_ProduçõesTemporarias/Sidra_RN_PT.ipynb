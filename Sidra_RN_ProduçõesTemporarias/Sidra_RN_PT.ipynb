{
  "cells": [
    {
      "cell_type": "markdown",
      "metadata": {
        "id": "view-in-github",
        "colab_type": "text"
      },
      "source": [
        "<a href=\"https://colab.research.google.com/github/Gus-1003/GeoProcessamento_Estudos_Dados/blob/main/Sidra_RN_Produ%C3%A7%C3%B5esTemporarias/Sidra_RN_PT.ipynb\" target=\"_parent\"><img src=\"https://colab.research.google.com/assets/colab-badge.svg\" alt=\"Open In Colab\"/></a>"
      ]
    },
    {
      "cell_type": "markdown",
      "metadata": {
        "id": "wud8Jwda1m5z"
      },
      "source": [
        "# Produção de Culturas temporarias no Rio Grande do Norte - UFRN"
      ]
    },
    {
      "cell_type": "markdown",
      "source": [
        "- análise de uma culturas agrícolas (dados de 2020)"
      ],
      "metadata": {
        "id": "Mm3hd-2Mgywy"
      }
    },
    {
      "cell_type": "markdown",
      "source": [
        "## Instalando Pacotes\n"
      ],
      "metadata": {
        "id": "uiBLJXCOxVr9"
      }
    },
    {
      "cell_type": "code",
      "execution_count": 1,
      "metadata": {
        "id": "ub1LAdZM13tQ",
        "outputId": "f8bcc20b-be04-4b7d-dbbc-47256e89a9b9",
        "colab": {
          "base_uri": "https://localhost:8080/"
        }
      },
      "outputs": [
        {
          "output_type": "stream",
          "name": "stdout",
          "text": [
            "Looking in indexes: https://pypi.org/simple, https://us-python.pkg.dev/colab-wheels/public/simple/\n",
            "Requirement already satisfied: geopandas in /usr/local/lib/python3.7/dist-packages (0.10.2)\n",
            "Requirement already satisfied: shapely in /usr/local/lib/python3.7/dist-packages (1.8.2)\n",
            "Requirement already satisfied: mapclassify in /usr/local/lib/python3.7/dist-packages (2.4.3)\n",
            "Requirement already satisfied: libpysal in /usr/local/lib/python3.7/dist-packages (4.6.2)\n",
            "Requirement already satisfied: splot in /usr/local/lib/python3.7/dist-packages (1.1.5.post1)\n",
            "Requirement already satisfied: esda in /usr/local/lib/python3.7/dist-packages (2.4.1)\n",
            "Requirement already satisfied: pysal in /usr/local/lib/python3.7/dist-packages (2.6.0)\n",
            "Requirement already satisfied: pyproj>=2.2.0 in /usr/local/lib/python3.7/dist-packages (from geopandas) (3.2.1)\n",
            "Requirement already satisfied: fiona>=1.8 in /usr/local/lib/python3.7/dist-packages (from geopandas) (1.8.21)\n",
            "Requirement already satisfied: pandas>=0.25.0 in /usr/local/lib/python3.7/dist-packages (from geopandas) (1.3.5)\n",
            "Requirement already satisfied: click>=4.0 in /usr/local/lib/python3.7/dist-packages (from fiona>=1.8->geopandas) (7.1.2)\n",
            "Requirement already satisfied: certifi in /usr/local/lib/python3.7/dist-packages (from fiona>=1.8->geopandas) (2022.6.15)\n",
            "Requirement already satisfied: setuptools in /usr/local/lib/python3.7/dist-packages (from fiona>=1.8->geopandas) (57.4.0)\n",
            "Requirement already satisfied: six>=1.7 in /usr/local/lib/python3.7/dist-packages (from fiona>=1.8->geopandas) (1.15.0)\n",
            "Requirement already satisfied: click-plugins>=1.0 in /usr/local/lib/python3.7/dist-packages (from fiona>=1.8->geopandas) (1.1.1)\n",
            "Requirement already satisfied: munch in /usr/local/lib/python3.7/dist-packages (from fiona>=1.8->geopandas) (2.5.0)\n",
            "Requirement already satisfied: cligj>=0.5 in /usr/local/lib/python3.7/dist-packages (from fiona>=1.8->geopandas) (0.7.2)\n",
            "Requirement already satisfied: attrs>=17 in /usr/local/lib/python3.7/dist-packages (from fiona>=1.8->geopandas) (21.4.0)\n",
            "Requirement already satisfied: numpy>=1.17.3 in /usr/local/lib/python3.7/dist-packages (from pandas>=0.25.0->geopandas) (1.21.6)\n",
            "Requirement already satisfied: pytz>=2017.3 in /usr/local/lib/python3.7/dist-packages (from pandas>=0.25.0->geopandas) (2022.1)\n",
            "Requirement already satisfied: python-dateutil>=2.7.3 in /usr/local/lib/python3.7/dist-packages (from pandas>=0.25.0->geopandas) (2.8.2)\n",
            "Requirement already satisfied: scipy>=1.0 in /usr/local/lib/python3.7/dist-packages (from mapclassify) (1.4.1)\n",
            "Requirement already satisfied: scikit-learn in /usr/local/lib/python3.7/dist-packages (from mapclassify) (1.0.2)\n",
            "Requirement already satisfied: networkx in /usr/local/lib/python3.7/dist-packages (from mapclassify) (2.6.3)\n",
            "Requirement already satisfied: packaging in /usr/local/lib/python3.7/dist-packages (from libpysal) (21.3)\n",
            "Requirement already satisfied: requests in /usr/local/lib/python3.7/dist-packages (from libpysal) (2.23.0)\n",
            "Requirement already satisfied: appdirs in /usr/local/lib/python3.7/dist-packages (from libpysal) (1.4.4)\n",
            "Requirement already satisfied: jinja2 in /usr/local/lib/python3.7/dist-packages (from libpysal) (2.11.3)\n",
            "Requirement already satisfied: beautifulsoup4 in /usr/local/lib/python3.7/dist-packages (from libpysal) (4.6.3)\n",
            "Requirement already satisfied: matplotlib in /usr/local/lib/python3.7/dist-packages (from splot) (3.2.2)\n",
            "Requirement already satisfied: seaborn in /usr/local/lib/python3.7/dist-packages (from splot) (0.11.2)\n",
            "Requirement already satisfied: giddy in /usr/local/lib/python3.7/dist-packages (from splot) (2.3.3)\n",
            "Requirement already satisfied: spreg in /usr/local/lib/python3.7/dist-packages (from splot) (1.2.4)\n",
            "Requirement already satisfied: pointpats>=2.2.0 in /usr/local/lib/python3.7/dist-packages (from pysal) (2.2.0)\n",
            "Requirement already satisfied: spvcm>=0.3.0 in /usr/local/lib/python3.7/dist-packages (from pysal) (0.3.0)\n",
            "Requirement already satisfied: momepy>=0.5.2 in /usr/local/lib/python3.7/dist-packages (from pysal) (0.5.3)\n",
            "Requirement already satisfied: spopt>=0.2.1 in /usr/local/lib/python3.7/dist-packages (from pysal) (0.4.1)\n",
            "Requirement already satisfied: access>=1.1.3 in /usr/local/lib/python3.7/dist-packages (from pysal) (1.1.8)\n",
            "Requirement already satisfied: spaghetti>=1.6.5 in /usr/local/lib/python3.7/dist-packages (from pysal) (1.6.5)\n",
            "Requirement already satisfied: inequality>=1.0.0 in /usr/local/lib/python3.7/dist-packages (from pysal) (1.0.0)\n",
            "Requirement already satisfied: spglm>=1.0.8 in /usr/local/lib/python3.7/dist-packages (from pysal) (1.0.8)\n",
            "Requirement already satisfied: mgwr>=2.1.2 in /usr/local/lib/python3.7/dist-packages (from pysal) (2.1.2)\n",
            "Requirement already satisfied: tobler>=0.8.2 in /usr/local/lib/python3.7/dist-packages (from pysal) (0.9.0)\n",
            "Requirement already satisfied: segregation>=2.1.0 in /usr/local/lib/python3.7/dist-packages (from pysal) (2.3.1)\n",
            "Requirement already satisfied: spint>=1.0.7 in /usr/local/lib/python3.7/dist-packages (from pysal) (1.0.7)\n",
            "Requirement already satisfied: quantecon>=0.4.7 in /usr/local/lib/python3.7/dist-packages (from giddy->splot) (0.5.3)\n",
            "Requirement already satisfied: tqdm>=4.27.0 in /usr/local/lib/python3.7/dist-packages (from momepy>=0.5.2->pysal) (4.64.0)\n",
            "Requirement already satisfied: pygeos in /usr/local/lib/python3.7/dist-packages (from momepy>=0.5.2->pysal) (0.12.0)\n",
            "Requirement already satisfied: opencv-contrib-python>=4.2.0 in /usr/local/lib/python3.7/dist-packages (from pointpats>=2.2.0->pysal) (4.6.0.66)\n",
            "Requirement already satisfied: numba in /usr/local/lib/python3.7/dist-packages (from quantecon>=0.4.7->giddy->splot) (0.51.2)\n",
            "Requirement already satisfied: sympy in /usr/local/lib/python3.7/dist-packages (from quantecon>=0.4.7->giddy->splot) (1.7.1)\n",
            "Requirement already satisfied: urllib3!=1.25.0,!=1.25.1,<1.26,>=1.21.1 in /usr/local/lib/python3.7/dist-packages (from requests->libpysal) (1.25.11)\n",
            "Requirement already satisfied: idna<3,>=2.5 in /usr/local/lib/python3.7/dist-packages (from requests->libpysal) (2.10)\n",
            "Requirement already satisfied: chardet<4,>=3.0.2 in /usr/local/lib/python3.7/dist-packages (from requests->libpysal) (3.0.4)\n",
            "Requirement already satisfied: quilt3 in /usr/local/lib/python3.7/dist-packages (from segregation>=2.1.0->pysal) (5.0.0)\n",
            "Requirement already satisfied: rvlib>=0.0.5 in /usr/local/lib/python3.7/dist-packages (from segregation>=2.1.0->pysal) (0.0.6)\n",
            "Requirement already satisfied: pip in /usr/local/lib/python3.7/dist-packages (from segregation>=2.1.0->pysal) (21.1.3)\n",
            "Requirement already satisfied: joblib in /usr/local/lib/python3.7/dist-packages (from segregation>=2.1.0->pysal) (1.1.0)\n",
            "Requirement already satisfied: deprecation in /usr/local/lib/python3.7/dist-packages (from segregation>=2.1.0->pysal) (2.1.0)\n",
            "Requirement already satisfied: cffi>=1.0.0 in /usr/local/lib/python3.7/dist-packages (from rvlib>=0.0.5->segregation>=2.1.0->pysal) (1.15.0)\n",
            "Requirement already satisfied: PyYAML in /usr/local/lib/python3.7/dist-packages (from rvlib>=0.0.5->segregation>=2.1.0->pysal) (6.0)\n",
            "Requirement already satisfied: pycparser in /usr/local/lib/python3.7/dist-packages (from cffi>=1.0.0->rvlib>=0.0.5->segregation>=2.1.0->pysal) (2.21)\n",
            "Requirement already satisfied: llvmlite<0.35,>=0.34.0.dev0 in /usr/local/lib/python3.7/dist-packages (from numba->quantecon>=0.4.7->giddy->splot) (0.34.0)\n",
            "Requirement already satisfied: threadpoolctl>=2.0.0 in /usr/local/lib/python3.7/dist-packages (from scikit-learn->mapclassify) (3.1.0)\n",
            "Requirement already satisfied: rtree in /usr/local/lib/python3.7/dist-packages (from spaghetti>=1.6.5->pysal) (1.0.0)\n",
            "Requirement already satisfied: pulp in /usr/local/lib/python3.7/dist-packages (from spopt>=0.2.1->pysal) (2.6.0)\n",
            "Requirement already satisfied: rasterio in /usr/local/lib/python3.7/dist-packages (from tobler>=0.8.2->pysal) (1.2.10)\n",
            "Requirement already satisfied: statsmodels in /usr/local/lib/python3.7/dist-packages (from tobler>=0.8.2->pysal) (0.10.2)\n",
            "Requirement already satisfied: rasterstats in /usr/local/lib/python3.7/dist-packages (from tobler>=0.8.2->pysal) (0.16.0)\n",
            "Requirement already satisfied: MarkupSafe>=0.23 in /usr/local/lib/python3.7/dist-packages (from jinja2->libpysal) (2.0.1)\n",
            "Requirement already satisfied: kiwisolver>=1.0.1 in /usr/local/lib/python3.7/dist-packages (from matplotlib->splot) (1.4.3)\n",
            "Requirement already satisfied: cycler>=0.10 in /usr/local/lib/python3.7/dist-packages (from matplotlib->splot) (0.11.0)\n",
            "Requirement already satisfied: pyparsing!=2.0.4,!=2.1.2,!=2.1.6,>=2.0.1 in /usr/local/lib/python3.7/dist-packages (from matplotlib->splot) (3.0.9)\n",
            "Requirement already satisfied: typing-extensions in /usr/local/lib/python3.7/dist-packages (from kiwisolver>=1.0.1->matplotlib->splot) (4.1.1)\n",
            "Requirement already satisfied: requests-futures==1.0.0 in /usr/local/lib/python3.7/dist-packages (from quilt3->segregation>=2.1.0->pysal) (1.0.0)\n",
            "Requirement already satisfied: aws-requests-auth>=0.4.2 in /usr/local/lib/python3.7/dist-packages (from quilt3->segregation>=2.1.0->pysal) (0.4.3)\n",
            "Requirement already satisfied: tenacity>=5.1.1 in /usr/local/lib/python3.7/dist-packages (from quilt3->segregation>=2.1.0->pysal) (8.0.1)\n",
            "Requirement already satisfied: jsonschema<5,>=3 in /usr/local/lib/python3.7/dist-packages (from quilt3->segregation>=2.1.0->pysal) (4.3.3)\n",
            "Requirement already satisfied: jsonlines==1.2.0 in /usr/local/lib/python3.7/dist-packages (from quilt3->segregation>=2.1.0->pysal) (1.2.0)\n",
            "Requirement already satisfied: boto3>=1.10.0 in /usr/local/lib/python3.7/dist-packages (from quilt3->segregation>=2.1.0->pysal) (1.24.23)\n",
            "Requirement already satisfied: s3transfer<0.7.0,>=0.6.0 in /usr/local/lib/python3.7/dist-packages (from boto3>=1.10.0->quilt3->segregation>=2.1.0->pysal) (0.6.0)\n",
            "Requirement already satisfied: botocore<1.28.0,>=1.27.23 in /usr/local/lib/python3.7/dist-packages (from boto3>=1.10.0->quilt3->segregation>=2.1.0->pysal) (1.27.23)\n",
            "Requirement already satisfied: jmespath<2.0.0,>=0.7.1 in /usr/local/lib/python3.7/dist-packages (from boto3>=1.10.0->quilt3->segregation>=2.1.0->pysal) (1.0.1)\n",
            "Requirement already satisfied: pyrsistent!=0.17.0,!=0.17.1,!=0.17.2,>=0.14.0 in /usr/local/lib/python3.7/dist-packages (from jsonschema<5,>=3->quilt3->segregation>=2.1.0->pysal) (0.18.1)\n",
            "Requirement already satisfied: importlib-resources>=1.4.0 in /usr/local/lib/python3.7/dist-packages (from jsonschema<5,>=3->quilt3->segregation>=2.1.0->pysal) (5.7.1)\n",
            "Requirement already satisfied: importlib-metadata in /usr/local/lib/python3.7/dist-packages (from jsonschema<5,>=3->quilt3->segregation>=2.1.0->pysal) (4.11.4)\n",
            "Requirement already satisfied: zipp>=3.1.0 in /usr/local/lib/python3.7/dist-packages (from importlib-resources>=1.4.0->jsonschema<5,>=3->quilt3->segregation>=2.1.0->pysal) (3.8.0)\n",
            "Requirement already satisfied: affine in /usr/local/lib/python3.7/dist-packages (from rasterio->tobler>=0.8.2->pysal) (2.3.1)\n",
            "Requirement already satisfied: snuggs>=1.4.1 in /usr/local/lib/python3.7/dist-packages (from rasterio->tobler>=0.8.2->pysal) (1.4.7)\n",
            "Requirement already satisfied: simplejson in /usr/local/lib/python3.7/dist-packages (from rasterstats->tobler>=0.8.2->pysal) (3.17.6)\n",
            "Requirement already satisfied: patsy>=0.4.0 in /usr/local/lib/python3.7/dist-packages (from statsmodels->tobler>=0.8.2->pysal) (0.5.2)\n",
            "Requirement already satisfied: mpmath>=0.19 in /usr/local/lib/python3.7/dist-packages (from sympy->quantecon>=0.4.7->giddy->splot) (1.2.1)\n",
            "Looking in indexes: https://pypi.org/simple, https://us-python.pkg.dev/colab-wheels/public/simple/\n",
            "Requirement already satisfied: pyshp in /usr/local/lib/python3.7/dist-packages (2.3.0)\n",
            "Looking in indexes: https://pypi.org/simple, https://us-python.pkg.dev/colab-wheels/public/simple/\n",
            "Requirement already satisfied: descartes in /usr/local/lib/python3.7/dist-packages (1.1.0)\n",
            "Requirement already satisfied: matplotlib in /usr/local/lib/python3.7/dist-packages (from descartes) (3.2.2)\n",
            "Requirement already satisfied: kiwisolver>=1.0.1 in /usr/local/lib/python3.7/dist-packages (from matplotlib->descartes) (1.4.3)\n",
            "Requirement already satisfied: cycler>=0.10 in /usr/local/lib/python3.7/dist-packages (from matplotlib->descartes) (0.11.0)\n",
            "Requirement already satisfied: pyparsing!=2.0.4,!=2.1.2,!=2.1.6,>=2.0.1 in /usr/local/lib/python3.7/dist-packages (from matplotlib->descartes) (3.0.9)\n",
            "Requirement already satisfied: python-dateutil>=2.1 in /usr/local/lib/python3.7/dist-packages (from matplotlib->descartes) (2.8.2)\n",
            "Requirement already satisfied: numpy>=1.11 in /usr/local/lib/python3.7/dist-packages (from matplotlib->descartes) (1.21.6)\n",
            "Requirement already satisfied: typing-extensions in /usr/local/lib/python3.7/dist-packages (from kiwisolver>=1.0.1->matplotlib->descartes) (4.1.1)\n",
            "Requirement already satisfied: six>=1.5 in /usr/local/lib/python3.7/dist-packages (from python-dateutil>=2.1->matplotlib->descartes) (1.15.0)\n"
          ]
        }
      ],
      "source": [
        "!pip install geopandas shapely mapclassify libpysal splot esda pysal\n",
        "!pip install --upgrade pyshp\n",
        "!pip install --upgrade descartes"
      ]
    },
    {
      "cell_type": "markdown",
      "source": [
        "## Importando Bibliotecas"
      ],
      "metadata": {
        "id": "nHrSIkiMg9q7"
      }
    },
    {
      "cell_type": "code",
      "execution_count": 2,
      "metadata": {
        "id": "Xze0XLiQDFyd",
        "outputId": "669e3b1a-896e-44f3-aa1b-0a551291a4fb",
        "colab": {
          "base_uri": "https://localhost:8080/"
        }
      },
      "outputs": [
        {
          "output_type": "stream",
          "name": "stderr",
          "text": [
            "/usr/local/lib/python3.7/dist-packages/statsmodels/tools/_testing.py:19: FutureWarning: pandas.util.testing is deprecated. Use the functions in the public API at pandas.testing instead.\n",
            "  import pandas.util.testing as tm\n",
            "/usr/local/lib/python3.7/dist-packages/geopandas/_compat.py:115: UserWarning: The Shapely GEOS version (3.10.2-CAPI-1.16.0) is incompatible with the GEOS version PyGEOS was compiled with (3.10.1-CAPI-1.16.0). Conversions between both will be slow.\n",
            "  shapely_geos_version, geos_capi_version_string\n"
          ]
        }
      ],
      "source": [
        "import pandas as pd\n",
        "import numpy as np\n",
        "from scipy import stats\n",
        "import statsmodels.formula.api as sm\n",
        "\n",
        "# para gráficos\n",
        "%matplotlib inline\n",
        "import matplotlib.pyplot as plt\n",
        "import seaborn as sns\n",
        "\n",
        "\n",
        "import shapefile\n",
        "\n",
        "# para a análise de dados espaciais\n",
        "import geopandas as gp\n",
        "import pysal as ps\n",
        "import splot\n",
        "import mapclassify as mc\n",
        "from libpysal.weights import Queen\n",
        "from libpysal import weights\n",
        "from esda import Moran, Moran_Local, G_Local\n",
        "from splot.esda import plot_moran, moran_scatterplot, lisa_cluster, plot_local_autocorrelation"
      ]
    },
    {
      "cell_type": "markdown",
      "metadata": {
        "id": "wHRualwfaHTp"
      },
      "source": [
        "## Leitura de arquivos:"
      ]
    },
    {
      "cell_type": "markdown",
      "source": [
        "### Conexão com o Drive:"
      ],
      "metadata": {
        "id": "kSmHuB_vxeZr"
      }
    },
    {
      "cell_type": "code",
      "source": [
        "from google.colab import drive\n",
        "drive.mount('/content/drive/')\n",
        "%cd /content/drive/MyDrive/"
      ],
      "metadata": {
        "id": "tbiuGhMnYvac",
        "outputId": "72ae3976-b9de-4e3c-9124-6b49653867e2",
        "colab": {
          "base_uri": "https://localhost:8080/"
        }
      },
      "execution_count": 29,
      "outputs": [
        {
          "output_type": "stream",
          "name": "stdout",
          "text": [
            "Drive already mounted at /content/drive/; to attempt to forcibly remount, call drive.mount(\"/content/drive/\", force_remount=True).\n",
            "/content/drive/MyDrive\n"
          ]
        }
      ]
    },
    {
      "cell_type": "markdown",
      "source": [
        "### geodf = Mapa.json"
      ],
      "metadata": {
        "id": "dr4xdvQBxi-J"
      }
    },
    {
      "cell_type": "code",
      "source": [
        "# ler dados de interesse\n",
        "geodf = gp.read_file(\"/content/drive/MyDrive/sidra/RN-2021/RN_Municipios_2021.shp\") # ler shapefile\n",
        "type(geodf)"
      ],
      "metadata": {
        "id": "t6DDOqbpuw_z",
        "outputId": "3c0dc964-fc31-4d4d-c641-1ce6ca076fde",
        "colab": {
          "base_uri": "https://localhost:8080/"
        }
      },
      "execution_count": 88,
      "outputs": [
        {
          "output_type": "execute_result",
          "data": {
            "text/plain": [
              "geopandas.geodataframe.GeoDataFrame"
            ]
          },
          "metadata": {},
          "execution_count": 88
        }
      ]
    },
    {
      "cell_type": "code",
      "source": [
        "geodf"
      ],
      "metadata": {
        "id": "WA9GpPzuwmWy",
        "outputId": "4ba079da-e4d8-4325-8cf0-a7dee84c496d",
        "colab": {
          "base_uri": "https://localhost:8080/",
          "height": 423
        }
      },
      "execution_count": 89,
      "outputs": [
        {
          "output_type": "execute_result",
          "data": {
            "text/plain": [
              "      CD_MUN          NM_MUN SIGLA  AREA_KM2  \\\n",
              "0    2400109           Acari    RN   608.466   \n",
              "1    2400208             Açu    RN  1303.442   \n",
              "2    2400307  Afonso Bezerra    RN   576.179   \n",
              "3    2400406       Água Nova    RN    50.684   \n",
              "4    2400505      Alexandria    RN   381.205   \n",
              "..       ...             ...   ...       ...   \n",
              "162  2414704          Várzea    RN    72.684   \n",
              "163  2414753       Venha-Ver    RN    71.621   \n",
              "164  2414803       Vera Cruz    RN    84.127   \n",
              "165  2414902          Viçosa    RN    37.905   \n",
              "166  2415008       Vila Flor    RN    47.656   \n",
              "\n",
              "                                              geometry  \n",
              "0    POLYGON ((-36.62836 -6.27113, -36.62828 -6.271...  \n",
              "1    POLYGON ((-36.87317 -5.48598, -36.87427 -5.486...  \n",
              "2    POLYGON ((-36.43987 -5.36988, -36.45524 -5.486...  \n",
              "3    POLYGON ((-38.30905 -6.17740, -38.28854 -6.187...  \n",
              "4    POLYGON ((-37.90082 -6.31832, -37.88895 -6.322...  \n",
              "..                                                 ...  \n",
              "162  POLYGON ((-35.36308 -6.28878, -35.36360 -6.289...  \n",
              "163  POLYGON ((-38.46611 -6.33128, -38.46990 -6.333...  \n",
              "164  POLYGON ((-35.37111 -6.04605, -35.37102 -6.046...  \n",
              "165  POLYGON ((-37.92119 -5.95980, -37.93401 -6.002...  \n",
              "166  POLYGON ((-35.07259 -6.26857, -35.07116 -6.271...  \n",
              "\n",
              "[167 rows x 5 columns]"
            ],
            "text/html": [
              "\n",
              "  <div id=\"df-aa95c89e-8367-4b9b-8141-35718e5160c1\">\n",
              "    <div class=\"colab-df-container\">\n",
              "      <div>\n",
              "<style scoped>\n",
              "    .dataframe tbody tr th:only-of-type {\n",
              "        vertical-align: middle;\n",
              "    }\n",
              "\n",
              "    .dataframe tbody tr th {\n",
              "        vertical-align: top;\n",
              "    }\n",
              "\n",
              "    .dataframe thead th {\n",
              "        text-align: right;\n",
              "    }\n",
              "</style>\n",
              "<table border=\"1\" class=\"dataframe\">\n",
              "  <thead>\n",
              "    <tr style=\"text-align: right;\">\n",
              "      <th></th>\n",
              "      <th>CD_MUN</th>\n",
              "      <th>NM_MUN</th>\n",
              "      <th>SIGLA</th>\n",
              "      <th>AREA_KM2</th>\n",
              "      <th>geometry</th>\n",
              "    </tr>\n",
              "  </thead>\n",
              "  <tbody>\n",
              "    <tr>\n",
              "      <th>0</th>\n",
              "      <td>2400109</td>\n",
              "      <td>Acari</td>\n",
              "      <td>RN</td>\n",
              "      <td>608.466</td>\n",
              "      <td>POLYGON ((-36.62836 -6.27113, -36.62828 -6.271...</td>\n",
              "    </tr>\n",
              "    <tr>\n",
              "      <th>1</th>\n",
              "      <td>2400208</td>\n",
              "      <td>Açu</td>\n",
              "      <td>RN</td>\n",
              "      <td>1303.442</td>\n",
              "      <td>POLYGON ((-36.87317 -5.48598, -36.87427 -5.486...</td>\n",
              "    </tr>\n",
              "    <tr>\n",
              "      <th>2</th>\n",
              "      <td>2400307</td>\n",
              "      <td>Afonso Bezerra</td>\n",
              "      <td>RN</td>\n",
              "      <td>576.179</td>\n",
              "      <td>POLYGON ((-36.43987 -5.36988, -36.45524 -5.486...</td>\n",
              "    </tr>\n",
              "    <tr>\n",
              "      <th>3</th>\n",
              "      <td>2400406</td>\n",
              "      <td>Água Nova</td>\n",
              "      <td>RN</td>\n",
              "      <td>50.684</td>\n",
              "      <td>POLYGON ((-38.30905 -6.17740, -38.28854 -6.187...</td>\n",
              "    </tr>\n",
              "    <tr>\n",
              "      <th>4</th>\n",
              "      <td>2400505</td>\n",
              "      <td>Alexandria</td>\n",
              "      <td>RN</td>\n",
              "      <td>381.205</td>\n",
              "      <td>POLYGON ((-37.90082 -6.31832, -37.88895 -6.322...</td>\n",
              "    </tr>\n",
              "    <tr>\n",
              "      <th>...</th>\n",
              "      <td>...</td>\n",
              "      <td>...</td>\n",
              "      <td>...</td>\n",
              "      <td>...</td>\n",
              "      <td>...</td>\n",
              "    </tr>\n",
              "    <tr>\n",
              "      <th>162</th>\n",
              "      <td>2414704</td>\n",
              "      <td>Várzea</td>\n",
              "      <td>RN</td>\n",
              "      <td>72.684</td>\n",
              "      <td>POLYGON ((-35.36308 -6.28878, -35.36360 -6.289...</td>\n",
              "    </tr>\n",
              "    <tr>\n",
              "      <th>163</th>\n",
              "      <td>2414753</td>\n",
              "      <td>Venha-Ver</td>\n",
              "      <td>RN</td>\n",
              "      <td>71.621</td>\n",
              "      <td>POLYGON ((-38.46611 -6.33128, -38.46990 -6.333...</td>\n",
              "    </tr>\n",
              "    <tr>\n",
              "      <th>164</th>\n",
              "      <td>2414803</td>\n",
              "      <td>Vera Cruz</td>\n",
              "      <td>RN</td>\n",
              "      <td>84.127</td>\n",
              "      <td>POLYGON ((-35.37111 -6.04605, -35.37102 -6.046...</td>\n",
              "    </tr>\n",
              "    <tr>\n",
              "      <th>165</th>\n",
              "      <td>2414902</td>\n",
              "      <td>Viçosa</td>\n",
              "      <td>RN</td>\n",
              "      <td>37.905</td>\n",
              "      <td>POLYGON ((-37.92119 -5.95980, -37.93401 -6.002...</td>\n",
              "    </tr>\n",
              "    <tr>\n",
              "      <th>166</th>\n",
              "      <td>2415008</td>\n",
              "      <td>Vila Flor</td>\n",
              "      <td>RN</td>\n",
              "      <td>47.656</td>\n",
              "      <td>POLYGON ((-35.07259 -6.26857, -35.07116 -6.271...</td>\n",
              "    </tr>\n",
              "  </tbody>\n",
              "</table>\n",
              "<p>167 rows × 5 columns</p>\n",
              "</div>\n",
              "      <button class=\"colab-df-convert\" onclick=\"convertToInteractive('df-aa95c89e-8367-4b9b-8141-35718e5160c1')\"\n",
              "              title=\"Convert this dataframe to an interactive table.\"\n",
              "              style=\"display:none;\">\n",
              "        \n",
              "  <svg xmlns=\"http://www.w3.org/2000/svg\" height=\"24px\"viewBox=\"0 0 24 24\"\n",
              "       width=\"24px\">\n",
              "    <path d=\"M0 0h24v24H0V0z\" fill=\"none\"/>\n",
              "    <path d=\"M18.56 5.44l.94 2.06.94-2.06 2.06-.94-2.06-.94-.94-2.06-.94 2.06-2.06.94zm-11 1L8.5 8.5l.94-2.06 2.06-.94-2.06-.94L8.5 2.5l-.94 2.06-2.06.94zm10 10l.94 2.06.94-2.06 2.06-.94-2.06-.94-.94-2.06-.94 2.06-2.06.94z\"/><path d=\"M17.41 7.96l-1.37-1.37c-.4-.4-.92-.59-1.43-.59-.52 0-1.04.2-1.43.59L10.3 9.45l-7.72 7.72c-.78.78-.78 2.05 0 2.83L4 21.41c.39.39.9.59 1.41.59.51 0 1.02-.2 1.41-.59l7.78-7.78 2.81-2.81c.8-.78.8-2.07 0-2.86zM5.41 20L4 18.59l7.72-7.72 1.47 1.35L5.41 20z\"/>\n",
              "  </svg>\n",
              "      </button>\n",
              "      \n",
              "  <style>\n",
              "    .colab-df-container {\n",
              "      display:flex;\n",
              "      flex-wrap:wrap;\n",
              "      gap: 12px;\n",
              "    }\n",
              "\n",
              "    .colab-df-convert {\n",
              "      background-color: #E8F0FE;\n",
              "      border: none;\n",
              "      border-radius: 50%;\n",
              "      cursor: pointer;\n",
              "      display: none;\n",
              "      fill: #1967D2;\n",
              "      height: 32px;\n",
              "      padding: 0 0 0 0;\n",
              "      width: 32px;\n",
              "    }\n",
              "\n",
              "    .colab-df-convert:hover {\n",
              "      background-color: #E2EBFA;\n",
              "      box-shadow: 0px 1px 2px rgba(60, 64, 67, 0.3), 0px 1px 3px 1px rgba(60, 64, 67, 0.15);\n",
              "      fill: #174EA6;\n",
              "    }\n",
              "\n",
              "    [theme=dark] .colab-df-convert {\n",
              "      background-color: #3B4455;\n",
              "      fill: #D2E3FC;\n",
              "    }\n",
              "\n",
              "    [theme=dark] .colab-df-convert:hover {\n",
              "      background-color: #434B5C;\n",
              "      box-shadow: 0px 1px 3px 1px rgba(0, 0, 0, 0.15);\n",
              "      filter: drop-shadow(0px 1px 2px rgba(0, 0, 0, 0.3));\n",
              "      fill: #FFFFFF;\n",
              "    }\n",
              "  </style>\n",
              "\n",
              "      <script>\n",
              "        const buttonEl =\n",
              "          document.querySelector('#df-aa95c89e-8367-4b9b-8141-35718e5160c1 button.colab-df-convert');\n",
              "        buttonEl.style.display =\n",
              "          google.colab.kernel.accessAllowed ? 'block' : 'none';\n",
              "\n",
              "        async function convertToInteractive(key) {\n",
              "          const element = document.querySelector('#df-aa95c89e-8367-4b9b-8141-35718e5160c1');\n",
              "          const dataTable =\n",
              "            await google.colab.kernel.invokeFunction('convertToInteractive',\n",
              "                                                     [key], {});\n",
              "          if (!dataTable) return;\n",
              "\n",
              "          const docLinkHtml = 'Like what you see? Visit the ' +\n",
              "            '<a target=\"_blank\" href=https://colab.research.google.com/notebooks/data_table.ipynb>data table notebook</a>'\n",
              "            + ' to learn more about interactive tables.';\n",
              "          element.innerHTML = '';\n",
              "          dataTable['output_type'] = 'display_data';\n",
              "          await google.colab.output.renderOutput(dataTable, element);\n",
              "          const docLink = document.createElement('div');\n",
              "          docLink.innerHTML = docLinkHtml;\n",
              "          element.appendChild(docLink);\n",
              "        }\n",
              "      </script>\n",
              "    </div>\n",
              "  </div>\n",
              "  "
            ]
          },
          "metadata": {},
          "execution_count": 89
        }
      ]
    },
    {
      "cell_type": "code",
      "source": [
        "geodf.info()"
      ],
      "metadata": {
        "id": "oQxptjN5w0aI",
        "outputId": "901b3088-ea8f-4c17-8ed3-30611a13cc73",
        "colab": {
          "base_uri": "https://localhost:8080/"
        }
      },
      "execution_count": 90,
      "outputs": [
        {
          "output_type": "stream",
          "name": "stdout",
          "text": [
            "<class 'geopandas.geodataframe.GeoDataFrame'>\n",
            "RangeIndex: 167 entries, 0 to 166\n",
            "Data columns (total 5 columns):\n",
            " #   Column    Non-Null Count  Dtype   \n",
            "---  ------    --------------  -----   \n",
            " 0   CD_MUN    167 non-null    object  \n",
            " 1   NM_MUN    167 non-null    object  \n",
            " 2   SIGLA     167 non-null    object  \n",
            " 3   AREA_KM2  167 non-null    float64 \n",
            " 4   geometry  167 non-null    geometry\n",
            "dtypes: float64(1), geometry(1), object(3)\n",
            "memory usage: 6.6+ KB\n"
          ]
        }
      ]
    },
    {
      "cell_type": "markdown",
      "source": [
        "### dados = dataframe.csv"
      ],
      "metadata": {
        "id": "GeoYUM62xsGY"
      }
    },
    {
      "cell_type": "code",
      "source": [
        "# ler dados de interesse\n",
        "dados = pd.read_csv('https://raw.githubusercontent.com/Gus-1003/GeoProcessamento_Estudos_Dados/main/Sidra_RN_Produ%C3%A7%C3%B5esTemporarias/Base_Principal%20(1).csv', delimiter=\";\", quotechar='\"')\n",
        "dados"
      ],
      "metadata": {
        "id": "y5loF-oMbL84",
        "outputId": "6c759dbf-23b6-46f0-84dd-5719181e0c80",
        "colab": {
          "base_uri": "https://localhost:8080/",
          "height": 502
        }
      },
      "execution_count": 91,
      "outputs": [
        {
          "output_type": "execute_result",
          "data": {
            "text/plain": [
              "        Cód.            Município Batata-doce (Kg/ha) Cana-de-açúcar(Kg/ha)  \\\n",
              "0    2400109           Acari (RN)                   -                     -   \n",
              "1    2400208             Açu (RN)               12333                 51000   \n",
              "2    2400307  Afonso Bezerra (RN)                   -                     -   \n",
              "3    2400406       Água Nova (RN)                   -                     -   \n",
              "4    2400505      Alexandria (RN)                   -                 50000   \n",
              "..       ...                  ...                 ...                   ...   \n",
              "162  2414704          Várzea (RN)                9500                     -   \n",
              "163  2414753       Venha-Ver (RN)                   -                 45000   \n",
              "164  2414803       Vera Cruz (RN)                8900                     -   \n",
              "165  2414902          Viçosa (RN)                9000                     -   \n",
              "166  2415008       Vila Flor (RN)                9000                 61114   \n",
              "\n",
              "    Feijão (em grão)(Kg/ha) Mandioca(Kg/ha) Melancia(Kg/ha)  \\\n",
              "0                       257               -           16000   \n",
              "1                       450           10500           27324   \n",
              "2                       421            9333           27480   \n",
              "3                       300               -               -   \n",
              "4                       417               -               -   \n",
              "..                      ...             ...             ...   \n",
              "162                     600            8000               -   \n",
              "163                     615            7200               -   \n",
              "164                     600           12000               -   \n",
              "165                     500               -               -   \n",
              "166                     600            8000               -   \n",
              "\n",
              "    Milho (em grão)(Kg/ha)  \n",
              "0                      500  \n",
              "1                      400  \n",
              "2                      500  \n",
              "3                      556  \n",
              "4                      550  \n",
              "..                     ...  \n",
              "162                    700  \n",
              "163                    737  \n",
              "164                    800  \n",
              "165                    800  \n",
              "166                    700  \n",
              "\n",
              "[167 rows x 8 columns]"
            ],
            "text/html": [
              "\n",
              "  <div id=\"df-072ddb0a-c522-4203-85b9-f493202ffe3c\">\n",
              "    <div class=\"colab-df-container\">\n",
              "      <div>\n",
              "<style scoped>\n",
              "    .dataframe tbody tr th:only-of-type {\n",
              "        vertical-align: middle;\n",
              "    }\n",
              "\n",
              "    .dataframe tbody tr th {\n",
              "        vertical-align: top;\n",
              "    }\n",
              "\n",
              "    .dataframe thead th {\n",
              "        text-align: right;\n",
              "    }\n",
              "</style>\n",
              "<table border=\"1\" class=\"dataframe\">\n",
              "  <thead>\n",
              "    <tr style=\"text-align: right;\">\n",
              "      <th></th>\n",
              "      <th>Cód.</th>\n",
              "      <th>Município</th>\n",
              "      <th>Batata-doce (Kg/ha)</th>\n",
              "      <th>Cana-de-açúcar(Kg/ha)</th>\n",
              "      <th>Feijão (em grão)(Kg/ha)</th>\n",
              "      <th>Mandioca(Kg/ha)</th>\n",
              "      <th>Melancia(Kg/ha)</th>\n",
              "      <th>Milho (em grão)(Kg/ha)</th>\n",
              "    </tr>\n",
              "  </thead>\n",
              "  <tbody>\n",
              "    <tr>\n",
              "      <th>0</th>\n",
              "      <td>2400109</td>\n",
              "      <td>Acari (RN)</td>\n",
              "      <td>-</td>\n",
              "      <td>-</td>\n",
              "      <td>257</td>\n",
              "      <td>-</td>\n",
              "      <td>16000</td>\n",
              "      <td>500</td>\n",
              "    </tr>\n",
              "    <tr>\n",
              "      <th>1</th>\n",
              "      <td>2400208</td>\n",
              "      <td>Açu (RN)</td>\n",
              "      <td>12333</td>\n",
              "      <td>51000</td>\n",
              "      <td>450</td>\n",
              "      <td>10500</td>\n",
              "      <td>27324</td>\n",
              "      <td>400</td>\n",
              "    </tr>\n",
              "    <tr>\n",
              "      <th>2</th>\n",
              "      <td>2400307</td>\n",
              "      <td>Afonso Bezerra (RN)</td>\n",
              "      <td>-</td>\n",
              "      <td>-</td>\n",
              "      <td>421</td>\n",
              "      <td>9333</td>\n",
              "      <td>27480</td>\n",
              "      <td>500</td>\n",
              "    </tr>\n",
              "    <tr>\n",
              "      <th>3</th>\n",
              "      <td>2400406</td>\n",
              "      <td>Água Nova (RN)</td>\n",
              "      <td>-</td>\n",
              "      <td>-</td>\n",
              "      <td>300</td>\n",
              "      <td>-</td>\n",
              "      <td>-</td>\n",
              "      <td>556</td>\n",
              "    </tr>\n",
              "    <tr>\n",
              "      <th>4</th>\n",
              "      <td>2400505</td>\n",
              "      <td>Alexandria (RN)</td>\n",
              "      <td>-</td>\n",
              "      <td>50000</td>\n",
              "      <td>417</td>\n",
              "      <td>-</td>\n",
              "      <td>-</td>\n",
              "      <td>550</td>\n",
              "    </tr>\n",
              "    <tr>\n",
              "      <th>...</th>\n",
              "      <td>...</td>\n",
              "      <td>...</td>\n",
              "      <td>...</td>\n",
              "      <td>...</td>\n",
              "      <td>...</td>\n",
              "      <td>...</td>\n",
              "      <td>...</td>\n",
              "      <td>...</td>\n",
              "    </tr>\n",
              "    <tr>\n",
              "      <th>162</th>\n",
              "      <td>2414704</td>\n",
              "      <td>Várzea (RN)</td>\n",
              "      <td>9500</td>\n",
              "      <td>-</td>\n",
              "      <td>600</td>\n",
              "      <td>8000</td>\n",
              "      <td>-</td>\n",
              "      <td>700</td>\n",
              "    </tr>\n",
              "    <tr>\n",
              "      <th>163</th>\n",
              "      <td>2414753</td>\n",
              "      <td>Venha-Ver (RN)</td>\n",
              "      <td>-</td>\n",
              "      <td>45000</td>\n",
              "      <td>615</td>\n",
              "      <td>7200</td>\n",
              "      <td>-</td>\n",
              "      <td>737</td>\n",
              "    </tr>\n",
              "    <tr>\n",
              "      <th>164</th>\n",
              "      <td>2414803</td>\n",
              "      <td>Vera Cruz (RN)</td>\n",
              "      <td>8900</td>\n",
              "      <td>-</td>\n",
              "      <td>600</td>\n",
              "      <td>12000</td>\n",
              "      <td>-</td>\n",
              "      <td>800</td>\n",
              "    </tr>\n",
              "    <tr>\n",
              "      <th>165</th>\n",
              "      <td>2414902</td>\n",
              "      <td>Viçosa (RN)</td>\n",
              "      <td>9000</td>\n",
              "      <td>-</td>\n",
              "      <td>500</td>\n",
              "      <td>-</td>\n",
              "      <td>-</td>\n",
              "      <td>800</td>\n",
              "    </tr>\n",
              "    <tr>\n",
              "      <th>166</th>\n",
              "      <td>2415008</td>\n",
              "      <td>Vila Flor (RN)</td>\n",
              "      <td>9000</td>\n",
              "      <td>61114</td>\n",
              "      <td>600</td>\n",
              "      <td>8000</td>\n",
              "      <td>-</td>\n",
              "      <td>700</td>\n",
              "    </tr>\n",
              "  </tbody>\n",
              "</table>\n",
              "<p>167 rows × 8 columns</p>\n",
              "</div>\n",
              "      <button class=\"colab-df-convert\" onclick=\"convertToInteractive('df-072ddb0a-c522-4203-85b9-f493202ffe3c')\"\n",
              "              title=\"Convert this dataframe to an interactive table.\"\n",
              "              style=\"display:none;\">\n",
              "        \n",
              "  <svg xmlns=\"http://www.w3.org/2000/svg\" height=\"24px\"viewBox=\"0 0 24 24\"\n",
              "       width=\"24px\">\n",
              "    <path d=\"M0 0h24v24H0V0z\" fill=\"none\"/>\n",
              "    <path d=\"M18.56 5.44l.94 2.06.94-2.06 2.06-.94-2.06-.94-.94-2.06-.94 2.06-2.06.94zm-11 1L8.5 8.5l.94-2.06 2.06-.94-2.06-.94L8.5 2.5l-.94 2.06-2.06.94zm10 10l.94 2.06.94-2.06 2.06-.94-2.06-.94-.94-2.06-.94 2.06-2.06.94z\"/><path d=\"M17.41 7.96l-1.37-1.37c-.4-.4-.92-.59-1.43-.59-.52 0-1.04.2-1.43.59L10.3 9.45l-7.72 7.72c-.78.78-.78 2.05 0 2.83L4 21.41c.39.39.9.59 1.41.59.51 0 1.02-.2 1.41-.59l7.78-7.78 2.81-2.81c.8-.78.8-2.07 0-2.86zM5.41 20L4 18.59l7.72-7.72 1.47 1.35L5.41 20z\"/>\n",
              "  </svg>\n",
              "      </button>\n",
              "      \n",
              "  <style>\n",
              "    .colab-df-container {\n",
              "      display:flex;\n",
              "      flex-wrap:wrap;\n",
              "      gap: 12px;\n",
              "    }\n",
              "\n",
              "    .colab-df-convert {\n",
              "      background-color: #E8F0FE;\n",
              "      border: none;\n",
              "      border-radius: 50%;\n",
              "      cursor: pointer;\n",
              "      display: none;\n",
              "      fill: #1967D2;\n",
              "      height: 32px;\n",
              "      padding: 0 0 0 0;\n",
              "      width: 32px;\n",
              "    }\n",
              "\n",
              "    .colab-df-convert:hover {\n",
              "      background-color: #E2EBFA;\n",
              "      box-shadow: 0px 1px 2px rgba(60, 64, 67, 0.3), 0px 1px 3px 1px rgba(60, 64, 67, 0.15);\n",
              "      fill: #174EA6;\n",
              "    }\n",
              "\n",
              "    [theme=dark] .colab-df-convert {\n",
              "      background-color: #3B4455;\n",
              "      fill: #D2E3FC;\n",
              "    }\n",
              "\n",
              "    [theme=dark] .colab-df-convert:hover {\n",
              "      background-color: #434B5C;\n",
              "      box-shadow: 0px 1px 3px 1px rgba(0, 0, 0, 0.15);\n",
              "      filter: drop-shadow(0px 1px 2px rgba(0, 0, 0, 0.3));\n",
              "      fill: #FFFFFF;\n",
              "    }\n",
              "  </style>\n",
              "\n",
              "      <script>\n",
              "        const buttonEl =\n",
              "          document.querySelector('#df-072ddb0a-c522-4203-85b9-f493202ffe3c button.colab-df-convert');\n",
              "        buttonEl.style.display =\n",
              "          google.colab.kernel.accessAllowed ? 'block' : 'none';\n",
              "\n",
              "        async function convertToInteractive(key) {\n",
              "          const element = document.querySelector('#df-072ddb0a-c522-4203-85b9-f493202ffe3c');\n",
              "          const dataTable =\n",
              "            await google.colab.kernel.invokeFunction('convertToInteractive',\n",
              "                                                     [key], {});\n",
              "          if (!dataTable) return;\n",
              "\n",
              "          const docLinkHtml = 'Like what you see? Visit the ' +\n",
              "            '<a target=\"_blank\" href=https://colab.research.google.com/notebooks/data_table.ipynb>data table notebook</a>'\n",
              "            + ' to learn more about interactive tables.';\n",
              "          element.innerHTML = '';\n",
              "          dataTable['output_type'] = 'display_data';\n",
              "          await google.colab.output.renderOutput(dataTable, element);\n",
              "          const docLink = document.createElement('div');\n",
              "          docLink.innerHTML = docLinkHtml;\n",
              "          element.appendChild(docLink);\n",
              "        }\n",
              "      </script>\n",
              "    </div>\n",
              "  </div>\n",
              "  "
            ]
          },
          "metadata": {},
          "execution_count": 91
        }
      ]
    },
    {
      "cell_type": "code",
      "source": [
        "dados.head()"
      ],
      "metadata": {
        "id": "UPsDFoFuy284",
        "outputId": "d460778f-d7c5-47f5-8f32-4786f4cc52df",
        "colab": {
          "base_uri": "https://localhost:8080/",
          "height": 285
        }
      },
      "execution_count": 92,
      "outputs": [
        {
          "output_type": "execute_result",
          "data": {
            "text/plain": [
              "      Cód.            Município Batata-doce (Kg/ha) Cana-de-açúcar(Kg/ha)  \\\n",
              "0  2400109           Acari (RN)                   -                     -   \n",
              "1  2400208             Açu (RN)               12333                 51000   \n",
              "2  2400307  Afonso Bezerra (RN)                   -                     -   \n",
              "3  2400406       Água Nova (RN)                   -                     -   \n",
              "4  2400505      Alexandria (RN)                   -                 50000   \n",
              "\n",
              "  Feijão (em grão)(Kg/ha) Mandioca(Kg/ha) Melancia(Kg/ha)  \\\n",
              "0                     257               -           16000   \n",
              "1                     450           10500           27324   \n",
              "2                     421            9333           27480   \n",
              "3                     300               -               -   \n",
              "4                     417               -               -   \n",
              "\n",
              "  Milho (em grão)(Kg/ha)  \n",
              "0                    500  \n",
              "1                    400  \n",
              "2                    500  \n",
              "3                    556  \n",
              "4                    550  "
            ],
            "text/html": [
              "\n",
              "  <div id=\"df-c30aee08-6e05-4dc3-8a1b-9aac92c16230\">\n",
              "    <div class=\"colab-df-container\">\n",
              "      <div>\n",
              "<style scoped>\n",
              "    .dataframe tbody tr th:only-of-type {\n",
              "        vertical-align: middle;\n",
              "    }\n",
              "\n",
              "    .dataframe tbody tr th {\n",
              "        vertical-align: top;\n",
              "    }\n",
              "\n",
              "    .dataframe thead th {\n",
              "        text-align: right;\n",
              "    }\n",
              "</style>\n",
              "<table border=\"1\" class=\"dataframe\">\n",
              "  <thead>\n",
              "    <tr style=\"text-align: right;\">\n",
              "      <th></th>\n",
              "      <th>Cód.</th>\n",
              "      <th>Município</th>\n",
              "      <th>Batata-doce (Kg/ha)</th>\n",
              "      <th>Cana-de-açúcar(Kg/ha)</th>\n",
              "      <th>Feijão (em grão)(Kg/ha)</th>\n",
              "      <th>Mandioca(Kg/ha)</th>\n",
              "      <th>Melancia(Kg/ha)</th>\n",
              "      <th>Milho (em grão)(Kg/ha)</th>\n",
              "    </tr>\n",
              "  </thead>\n",
              "  <tbody>\n",
              "    <tr>\n",
              "      <th>0</th>\n",
              "      <td>2400109</td>\n",
              "      <td>Acari (RN)</td>\n",
              "      <td>-</td>\n",
              "      <td>-</td>\n",
              "      <td>257</td>\n",
              "      <td>-</td>\n",
              "      <td>16000</td>\n",
              "      <td>500</td>\n",
              "    </tr>\n",
              "    <tr>\n",
              "      <th>1</th>\n",
              "      <td>2400208</td>\n",
              "      <td>Açu (RN)</td>\n",
              "      <td>12333</td>\n",
              "      <td>51000</td>\n",
              "      <td>450</td>\n",
              "      <td>10500</td>\n",
              "      <td>27324</td>\n",
              "      <td>400</td>\n",
              "    </tr>\n",
              "    <tr>\n",
              "      <th>2</th>\n",
              "      <td>2400307</td>\n",
              "      <td>Afonso Bezerra (RN)</td>\n",
              "      <td>-</td>\n",
              "      <td>-</td>\n",
              "      <td>421</td>\n",
              "      <td>9333</td>\n",
              "      <td>27480</td>\n",
              "      <td>500</td>\n",
              "    </tr>\n",
              "    <tr>\n",
              "      <th>3</th>\n",
              "      <td>2400406</td>\n",
              "      <td>Água Nova (RN)</td>\n",
              "      <td>-</td>\n",
              "      <td>-</td>\n",
              "      <td>300</td>\n",
              "      <td>-</td>\n",
              "      <td>-</td>\n",
              "      <td>556</td>\n",
              "    </tr>\n",
              "    <tr>\n",
              "      <th>4</th>\n",
              "      <td>2400505</td>\n",
              "      <td>Alexandria (RN)</td>\n",
              "      <td>-</td>\n",
              "      <td>50000</td>\n",
              "      <td>417</td>\n",
              "      <td>-</td>\n",
              "      <td>-</td>\n",
              "      <td>550</td>\n",
              "    </tr>\n",
              "  </tbody>\n",
              "</table>\n",
              "</div>\n",
              "      <button class=\"colab-df-convert\" onclick=\"convertToInteractive('df-c30aee08-6e05-4dc3-8a1b-9aac92c16230')\"\n",
              "              title=\"Convert this dataframe to an interactive table.\"\n",
              "              style=\"display:none;\">\n",
              "        \n",
              "  <svg xmlns=\"http://www.w3.org/2000/svg\" height=\"24px\"viewBox=\"0 0 24 24\"\n",
              "       width=\"24px\">\n",
              "    <path d=\"M0 0h24v24H0V0z\" fill=\"none\"/>\n",
              "    <path d=\"M18.56 5.44l.94 2.06.94-2.06 2.06-.94-2.06-.94-.94-2.06-.94 2.06-2.06.94zm-11 1L8.5 8.5l.94-2.06 2.06-.94-2.06-.94L8.5 2.5l-.94 2.06-2.06.94zm10 10l.94 2.06.94-2.06 2.06-.94-2.06-.94-.94-2.06-.94 2.06-2.06.94z\"/><path d=\"M17.41 7.96l-1.37-1.37c-.4-.4-.92-.59-1.43-.59-.52 0-1.04.2-1.43.59L10.3 9.45l-7.72 7.72c-.78.78-.78 2.05 0 2.83L4 21.41c.39.39.9.59 1.41.59.51 0 1.02-.2 1.41-.59l7.78-7.78 2.81-2.81c.8-.78.8-2.07 0-2.86zM5.41 20L4 18.59l7.72-7.72 1.47 1.35L5.41 20z\"/>\n",
              "  </svg>\n",
              "      </button>\n",
              "      \n",
              "  <style>\n",
              "    .colab-df-container {\n",
              "      display:flex;\n",
              "      flex-wrap:wrap;\n",
              "      gap: 12px;\n",
              "    }\n",
              "\n",
              "    .colab-df-convert {\n",
              "      background-color: #E8F0FE;\n",
              "      border: none;\n",
              "      border-radius: 50%;\n",
              "      cursor: pointer;\n",
              "      display: none;\n",
              "      fill: #1967D2;\n",
              "      height: 32px;\n",
              "      padding: 0 0 0 0;\n",
              "      width: 32px;\n",
              "    }\n",
              "\n",
              "    .colab-df-convert:hover {\n",
              "      background-color: #E2EBFA;\n",
              "      box-shadow: 0px 1px 2px rgba(60, 64, 67, 0.3), 0px 1px 3px 1px rgba(60, 64, 67, 0.15);\n",
              "      fill: #174EA6;\n",
              "    }\n",
              "\n",
              "    [theme=dark] .colab-df-convert {\n",
              "      background-color: #3B4455;\n",
              "      fill: #D2E3FC;\n",
              "    }\n",
              "\n",
              "    [theme=dark] .colab-df-convert:hover {\n",
              "      background-color: #434B5C;\n",
              "      box-shadow: 0px 1px 3px 1px rgba(0, 0, 0, 0.15);\n",
              "      filter: drop-shadow(0px 1px 2px rgba(0, 0, 0, 0.3));\n",
              "      fill: #FFFFFF;\n",
              "    }\n",
              "  </style>\n",
              "\n",
              "      <script>\n",
              "        const buttonEl =\n",
              "          document.querySelector('#df-c30aee08-6e05-4dc3-8a1b-9aac92c16230 button.colab-df-convert');\n",
              "        buttonEl.style.display =\n",
              "          google.colab.kernel.accessAllowed ? 'block' : 'none';\n",
              "\n",
              "        async function convertToInteractive(key) {\n",
              "          const element = document.querySelector('#df-c30aee08-6e05-4dc3-8a1b-9aac92c16230');\n",
              "          const dataTable =\n",
              "            await google.colab.kernel.invokeFunction('convertToInteractive',\n",
              "                                                     [key], {});\n",
              "          if (!dataTable) return;\n",
              "\n",
              "          const docLinkHtml = 'Like what you see? Visit the ' +\n",
              "            '<a target=\"_blank\" href=https://colab.research.google.com/notebooks/data_table.ipynb>data table notebook</a>'\n",
              "            + ' to learn more about interactive tables.';\n",
              "          element.innerHTML = '';\n",
              "          dataTable['output_type'] = 'display_data';\n",
              "          await google.colab.output.renderOutput(dataTable, element);\n",
              "          const docLink = document.createElement('div');\n",
              "          docLink.innerHTML = docLinkHtml;\n",
              "          element.appendChild(docLink);\n",
              "        }\n",
              "      </script>\n",
              "    </div>\n",
              "  </div>\n",
              "  "
            ]
          },
          "metadata": {},
          "execution_count": 92
        }
      ]
    },
    {
      "cell_type": "code",
      "source": [
        "dados.info()"
      ],
      "metadata": {
        "id": "NBfxVQw6vbUJ",
        "outputId": "13809d39-648d-4a55-bc7b-a5352bae0498",
        "colab": {
          "base_uri": "https://localhost:8080/"
        }
      },
      "execution_count": 94,
      "outputs": [
        {
          "output_type": "stream",
          "name": "stdout",
          "text": [
            "<class 'pandas.core.frame.DataFrame'>\n",
            "RangeIndex: 167 entries, 0 to 166\n",
            "Data columns (total 8 columns):\n",
            " #   Column                   Non-Null Count  Dtype \n",
            "---  ------                   --------------  ----- \n",
            " 0   Cód.                     167 non-null    int64 \n",
            " 1   Município                167 non-null    object\n",
            " 2   Batata-doce (Kg/ha)      167 non-null    object\n",
            " 3   Cana-de-açúcar(Kg/ha)    167 non-null    object\n",
            " 4   Feijão (em grão)(Kg/ha)  167 non-null    object\n",
            " 5   Mandioca(Kg/ha)          167 non-null    object\n",
            " 6   Melancia(Kg/ha)          167 non-null    object\n",
            " 7   Milho (em grão)(Kg/ha)   167 non-null    object\n",
            "dtypes: int64(1), object(7)\n",
            "memory usage: 10.6+ KB\n"
          ]
        }
      ]
    },
    {
      "cell_type": "markdown",
      "source": [
        "## Merge (Dados and Mapa)"
      ],
      "metadata": {
        "id": "fY8VpviSx06h"
      }
    },
    {
      "cell_type": "code",
      "source": [
        "# mesclar shapefile com dataframe usando a coluna mun\n",
        "geodf.rename(columns={'CD_MUN': 'mun'}, inplace=True)  # mudar nome da coluna com cód. para 'mun'\n",
        "geodf['mun'] = geodf.mun.astype(int)  # transformar códigos em inteiros"
      ],
      "metadata": {
        "id": "k65qVMbRyBdJ"
      },
      "execution_count": 95,
      "outputs": []
    },
    {
      "cell_type": "code",
      "source": [
        "geodf.info()"
      ],
      "metadata": {
        "id": "NgL9tdnlyGnP",
        "outputId": "b130e7fd-915f-41c8-d1bf-ca25c25021c3",
        "colab": {
          "base_uri": "https://localhost:8080/"
        }
      },
      "execution_count": 96,
      "outputs": [
        {
          "output_type": "stream",
          "name": "stdout",
          "text": [
            "<class 'geopandas.geodataframe.GeoDataFrame'>\n",
            "RangeIndex: 167 entries, 0 to 166\n",
            "Data columns (total 5 columns):\n",
            " #   Column    Non-Null Count  Dtype   \n",
            "---  ------    --------------  -----   \n",
            " 0   mun       167 non-null    int64   \n",
            " 1   NM_MUN    167 non-null    object  \n",
            " 2   SIGLA     167 non-null    object  \n",
            " 3   AREA_KM2  167 non-null    float64 \n",
            " 4   geometry  167 non-null    geometry\n",
            "dtypes: float64(1), geometry(1), int64(1), object(2)\n",
            "memory usage: 6.6+ KB\n"
          ]
        }
      ]
    },
    {
      "cell_type": "code",
      "source": [
        "dados.rename(columns={'Cód.': 'mun'}, inplace=True)  # mudar nome da coluna com cód. para 'mun'\n",
        "dados['mun'].astype(int)"
      ],
      "metadata": {
        "id": "tJWDsbu8yPBb",
        "outputId": "3740bf75-1a31-48ff-f616-236e9dca6399",
        "colab": {
          "base_uri": "https://localhost:8080/"
        }
      },
      "execution_count": 97,
      "outputs": [
        {
          "output_type": "execute_result",
          "data": {
            "text/plain": [
              "0      2400109\n",
              "1      2400208\n",
              "2      2400307\n",
              "3      2400406\n",
              "4      2400505\n",
              "        ...   \n",
              "162    2414704\n",
              "163    2414753\n",
              "164    2414803\n",
              "165    2414902\n",
              "166    2415008\n",
              "Name: mun, Length: 167, dtype: int64"
            ]
          },
          "metadata": {},
          "execution_count": 97
        }
      ]
    },
    {
      "cell_type": "code",
      "source": [
        "feijão = dados.iloc[:, [4]]\n",
        "feijão"
      ],
      "metadata": {
        "id": "f8p_hIojLMs8",
        "outputId": "d8c07901-6918-4823-ec16-33dd52e7b600",
        "colab": {
          "base_uri": "https://localhost:8080/",
          "height": 423
        }
      },
      "execution_count": 115,
      "outputs": [
        {
          "output_type": "execute_result",
          "data": {
            "text/plain": [
              "    Feijão (em grão)(Kg/ha)\n",
              "0                       257\n",
              "1                       450\n",
              "2                       421\n",
              "3                       300\n",
              "4                       417\n",
              "..                      ...\n",
              "162                     600\n",
              "163                     615\n",
              "164                     600\n",
              "165                     500\n",
              "166                     600\n",
              "\n",
              "[167 rows x 1 columns]"
            ],
            "text/html": [
              "\n",
              "  <div id=\"df-10276e71-dd9c-4760-b96a-6a916fd136e8\">\n",
              "    <div class=\"colab-df-container\">\n",
              "      <div>\n",
              "<style scoped>\n",
              "    .dataframe tbody tr th:only-of-type {\n",
              "        vertical-align: middle;\n",
              "    }\n",
              "\n",
              "    .dataframe tbody tr th {\n",
              "        vertical-align: top;\n",
              "    }\n",
              "\n",
              "    .dataframe thead th {\n",
              "        text-align: right;\n",
              "    }\n",
              "</style>\n",
              "<table border=\"1\" class=\"dataframe\">\n",
              "  <thead>\n",
              "    <tr style=\"text-align: right;\">\n",
              "      <th></th>\n",
              "      <th>Feijão (em grão)(Kg/ha)</th>\n",
              "    </tr>\n",
              "  </thead>\n",
              "  <tbody>\n",
              "    <tr>\n",
              "      <th>0</th>\n",
              "      <td>257</td>\n",
              "    </tr>\n",
              "    <tr>\n",
              "      <th>1</th>\n",
              "      <td>450</td>\n",
              "    </tr>\n",
              "    <tr>\n",
              "      <th>2</th>\n",
              "      <td>421</td>\n",
              "    </tr>\n",
              "    <tr>\n",
              "      <th>3</th>\n",
              "      <td>300</td>\n",
              "    </tr>\n",
              "    <tr>\n",
              "      <th>4</th>\n",
              "      <td>417</td>\n",
              "    </tr>\n",
              "    <tr>\n",
              "      <th>...</th>\n",
              "      <td>...</td>\n",
              "    </tr>\n",
              "    <tr>\n",
              "      <th>162</th>\n",
              "      <td>600</td>\n",
              "    </tr>\n",
              "    <tr>\n",
              "      <th>163</th>\n",
              "      <td>615</td>\n",
              "    </tr>\n",
              "    <tr>\n",
              "      <th>164</th>\n",
              "      <td>600</td>\n",
              "    </tr>\n",
              "    <tr>\n",
              "      <th>165</th>\n",
              "      <td>500</td>\n",
              "    </tr>\n",
              "    <tr>\n",
              "      <th>166</th>\n",
              "      <td>600</td>\n",
              "    </tr>\n",
              "  </tbody>\n",
              "</table>\n",
              "<p>167 rows × 1 columns</p>\n",
              "</div>\n",
              "      <button class=\"colab-df-convert\" onclick=\"convertToInteractive('df-10276e71-dd9c-4760-b96a-6a916fd136e8')\"\n",
              "              title=\"Convert this dataframe to an interactive table.\"\n",
              "              style=\"display:none;\">\n",
              "        \n",
              "  <svg xmlns=\"http://www.w3.org/2000/svg\" height=\"24px\"viewBox=\"0 0 24 24\"\n",
              "       width=\"24px\">\n",
              "    <path d=\"M0 0h24v24H0V0z\" fill=\"none\"/>\n",
              "    <path d=\"M18.56 5.44l.94 2.06.94-2.06 2.06-.94-2.06-.94-.94-2.06-.94 2.06-2.06.94zm-11 1L8.5 8.5l.94-2.06 2.06-.94-2.06-.94L8.5 2.5l-.94 2.06-2.06.94zm10 10l.94 2.06.94-2.06 2.06-.94-2.06-.94-.94-2.06-.94 2.06-2.06.94z\"/><path d=\"M17.41 7.96l-1.37-1.37c-.4-.4-.92-.59-1.43-.59-.52 0-1.04.2-1.43.59L10.3 9.45l-7.72 7.72c-.78.78-.78 2.05 0 2.83L4 21.41c.39.39.9.59 1.41.59.51 0 1.02-.2 1.41-.59l7.78-7.78 2.81-2.81c.8-.78.8-2.07 0-2.86zM5.41 20L4 18.59l7.72-7.72 1.47 1.35L5.41 20z\"/>\n",
              "  </svg>\n",
              "      </button>\n",
              "      \n",
              "  <style>\n",
              "    .colab-df-container {\n",
              "      display:flex;\n",
              "      flex-wrap:wrap;\n",
              "      gap: 12px;\n",
              "    }\n",
              "\n",
              "    .colab-df-convert {\n",
              "      background-color: #E8F0FE;\n",
              "      border: none;\n",
              "      border-radius: 50%;\n",
              "      cursor: pointer;\n",
              "      display: none;\n",
              "      fill: #1967D2;\n",
              "      height: 32px;\n",
              "      padding: 0 0 0 0;\n",
              "      width: 32px;\n",
              "    }\n",
              "\n",
              "    .colab-df-convert:hover {\n",
              "      background-color: #E2EBFA;\n",
              "      box-shadow: 0px 1px 2px rgba(60, 64, 67, 0.3), 0px 1px 3px 1px rgba(60, 64, 67, 0.15);\n",
              "      fill: #174EA6;\n",
              "    }\n",
              "\n",
              "    [theme=dark] .colab-df-convert {\n",
              "      background-color: #3B4455;\n",
              "      fill: #D2E3FC;\n",
              "    }\n",
              "\n",
              "    [theme=dark] .colab-df-convert:hover {\n",
              "      background-color: #434B5C;\n",
              "      box-shadow: 0px 1px 3px 1px rgba(0, 0, 0, 0.15);\n",
              "      filter: drop-shadow(0px 1px 2px rgba(0, 0, 0, 0.3));\n",
              "      fill: #FFFFFF;\n",
              "    }\n",
              "  </style>\n",
              "\n",
              "      <script>\n",
              "        const buttonEl =\n",
              "          document.querySelector('#df-10276e71-dd9c-4760-b96a-6a916fd136e8 button.colab-df-convert');\n",
              "        buttonEl.style.display =\n",
              "          google.colab.kernel.accessAllowed ? 'block' : 'none';\n",
              "\n",
              "        async function convertToInteractive(key) {\n",
              "          const element = document.querySelector('#df-10276e71-dd9c-4760-b96a-6a916fd136e8');\n",
              "          const dataTable =\n",
              "            await google.colab.kernel.invokeFunction('convertToInteractive',\n",
              "                                                     [key], {});\n",
              "          if (!dataTable) return;\n",
              "\n",
              "          const docLinkHtml = 'Like what you see? Visit the ' +\n",
              "            '<a target=\"_blank\" href=https://colab.research.google.com/notebooks/data_table.ipynb>data table notebook</a>'\n",
              "            + ' to learn more about interactive tables.';\n",
              "          element.innerHTML = '';\n",
              "          dataTable['output_type'] = 'display_data';\n",
              "          await google.colab.output.renderOutput(dataTable, element);\n",
              "          const docLink = document.createElement('div');\n",
              "          docLink.innerHTML = docLinkHtml;\n",
              "          element.appendChild(docLink);\n",
              "        }\n",
              "      </script>\n",
              "    </div>\n",
              "  </div>\n",
              "  "
            ]
          },
          "metadata": {},
          "execution_count": 115
        }
      ]
    },
    {
      "cell_type": "code",
      "source": [
        "mapa = pd.concat([geodf, feijão], axis=1, join=\"inner\")"
      ],
      "metadata": {
        "id": "gFP02pSmMZIT"
      },
      "execution_count": 118,
      "outputs": []
    },
    {
      "cell_type": "code",
      "execution_count": 116,
      "metadata": {
        "id": "DfSUvAJBPUlS",
        "outputId": "22c89287-2f90-490f-bdc6-a45113194c8f",
        "colab": {
          "base_uri": "https://localhost:8080/",
          "height": 344
        }
      },
      "outputs": [
        {
          "output_type": "error",
          "ename": "KeyError",
          "evalue": "ignored",
          "traceback": [
            "\u001b[0;31m---------------------------------------------------------------------------\u001b[0m",
            "\u001b[0;31mKeyError\u001b[0m                                  Traceback (most recent call last)",
            "\u001b[0;32m<ipython-input-116-ab383d65fc7a>\u001b[0m in \u001b[0;36m<module>\u001b[0;34m()\u001b[0m\n\u001b[0;32m----> 1\u001b[0;31m \u001b[0mbr\u001b[0m \u001b[0;34m=\u001b[0m \u001b[0mpd\u001b[0m\u001b[0;34m.\u001b[0m\u001b[0mmerge\u001b[0m\u001b[0;34m(\u001b[0m\u001b[0mgeodf\u001b[0m\u001b[0;34m,\u001b[0m \u001b[0mfeijão\u001b[0m\u001b[0;34m,\u001b[0m \u001b[0mon\u001b[0m\u001b[0;34m=\u001b[0m\u001b[0;34m'Feijão (em grão)(Kg/ha)'\u001b[0m\u001b[0;34m,\u001b[0m \u001b[0msuffixes\u001b[0m\u001b[0;34m=\u001b[0m\u001b[0;34m(\u001b[0m\u001b[0;34m''\u001b[0m\u001b[0;34m,\u001b[0m \u001b[0;34m'_y'\u001b[0m\u001b[0;34m)\u001b[0m\u001b[0;34m)\u001b[0m  \u001b[0;31m# mesclar o dataframe e o shapefile em um objeto\u001b[0m\u001b[0;34m\u001b[0m\u001b[0;34m\u001b[0m\u001b[0m\n\u001b[0m\u001b[1;32m      2\u001b[0m \u001b[0mbr\u001b[0m \u001b[0;34m=\u001b[0m \u001b[0mbr\u001b[0m\u001b[0;34m.\u001b[0m\u001b[0mloc\u001b[0m\u001b[0;34m[\u001b[0m\u001b[0;34m:\u001b[0m\u001b[0;34m,\u001b[0m \u001b[0mbr\u001b[0m\u001b[0;34m.\u001b[0m\u001b[0mcolumns\u001b[0m \u001b[0;34m!=\u001b[0m \u001b[0;34m'NM_MUNICIP'\u001b[0m\u001b[0;34m]\u001b[0m  \u001b[0;31m# tirar a coluna NM_MUNICIP\u001b[0m\u001b[0;34m\u001b[0m\u001b[0;34m\u001b[0m\u001b[0m\n",
            "\u001b[0;32m/usr/local/lib/python3.7/dist-packages/pandas/core/reshape/merge.py\u001b[0m in \u001b[0;36mmerge\u001b[0;34m(left, right, how, on, left_on, right_on, left_index, right_index, sort, suffixes, copy, indicator, validate)\u001b[0m\n\u001b[1;32m    117\u001b[0m         \u001b[0mcopy\u001b[0m\u001b[0;34m=\u001b[0m\u001b[0mcopy\u001b[0m\u001b[0;34m,\u001b[0m\u001b[0;34m\u001b[0m\u001b[0;34m\u001b[0m\u001b[0m\n\u001b[1;32m    118\u001b[0m         \u001b[0mindicator\u001b[0m\u001b[0;34m=\u001b[0m\u001b[0mindicator\u001b[0m\u001b[0;34m,\u001b[0m\u001b[0;34m\u001b[0m\u001b[0;34m\u001b[0m\u001b[0m\n\u001b[0;32m--> 119\u001b[0;31m         \u001b[0mvalidate\u001b[0m\u001b[0;34m=\u001b[0m\u001b[0mvalidate\u001b[0m\u001b[0;34m,\u001b[0m\u001b[0;34m\u001b[0m\u001b[0;34m\u001b[0m\u001b[0m\n\u001b[0m\u001b[1;32m    120\u001b[0m     )\n\u001b[1;32m    121\u001b[0m     \u001b[0;32mreturn\u001b[0m \u001b[0mop\u001b[0m\u001b[0;34m.\u001b[0m\u001b[0mget_result\u001b[0m\u001b[0;34m(\u001b[0m\u001b[0;34m)\u001b[0m\u001b[0;34m\u001b[0m\u001b[0;34m\u001b[0m\u001b[0m\n",
            "\u001b[0;32m/usr/local/lib/python3.7/dist-packages/pandas/core/reshape/merge.py\u001b[0m in \u001b[0;36m__init__\u001b[0;34m(self, left, right, how, on, left_on, right_on, axis, left_index, right_index, sort, suffixes, copy, indicator, validate)\u001b[0m\n\u001b[1;32m    697\u001b[0m             \u001b[0mself\u001b[0m\u001b[0;34m.\u001b[0m\u001b[0mright_join_keys\u001b[0m\u001b[0;34m,\u001b[0m\u001b[0;34m\u001b[0m\u001b[0;34m\u001b[0m\u001b[0m\n\u001b[1;32m    698\u001b[0m             \u001b[0mself\u001b[0m\u001b[0;34m.\u001b[0m\u001b[0mjoin_names\u001b[0m\u001b[0;34m,\u001b[0m\u001b[0;34m\u001b[0m\u001b[0;34m\u001b[0m\u001b[0m\n\u001b[0;32m--> 699\u001b[0;31m         ) = self._get_merge_keys()\n\u001b[0m\u001b[1;32m    700\u001b[0m \u001b[0;34m\u001b[0m\u001b[0m\n\u001b[1;32m    701\u001b[0m         \u001b[0;31m# validate the merge keys dtypes. We may need to coerce\u001b[0m\u001b[0;34m\u001b[0m\u001b[0;34m\u001b[0m\u001b[0;34m\u001b[0m\u001b[0m\n",
            "\u001b[0;32m/usr/local/lib/python3.7/dist-packages/pandas/core/reshape/merge.py\u001b[0m in \u001b[0;36m_get_merge_keys\u001b[0;34m(self)\u001b[0m\n\u001b[1;32m   1107\u001b[0m                         \u001b[0mright_keys\u001b[0m\u001b[0;34m.\u001b[0m\u001b[0mappend\u001b[0m\u001b[0;34m(\u001b[0m\u001b[0mrk\u001b[0m\u001b[0;34m)\u001b[0m\u001b[0;34m\u001b[0m\u001b[0;34m\u001b[0m\u001b[0m\n\u001b[1;32m   1108\u001b[0m                     \u001b[0;32mif\u001b[0m \u001b[0mlk\u001b[0m \u001b[0;32mis\u001b[0m \u001b[0;32mnot\u001b[0m \u001b[0;32mNone\u001b[0m\u001b[0;34m:\u001b[0m\u001b[0;34m\u001b[0m\u001b[0;34m\u001b[0m\u001b[0m\n\u001b[0;32m-> 1109\u001b[0;31m                         \u001b[0mleft_keys\u001b[0m\u001b[0;34m.\u001b[0m\u001b[0mappend\u001b[0m\u001b[0;34m(\u001b[0m\u001b[0mleft\u001b[0m\u001b[0;34m.\u001b[0m\u001b[0m_get_label_or_level_values\u001b[0m\u001b[0;34m(\u001b[0m\u001b[0mlk\u001b[0m\u001b[0;34m)\u001b[0m\u001b[0;34m)\u001b[0m\u001b[0;34m\u001b[0m\u001b[0;34m\u001b[0m\u001b[0m\n\u001b[0m\u001b[1;32m   1110\u001b[0m                         \u001b[0mjoin_names\u001b[0m\u001b[0;34m.\u001b[0m\u001b[0mappend\u001b[0m\u001b[0;34m(\u001b[0m\u001b[0mlk\u001b[0m\u001b[0;34m)\u001b[0m\u001b[0;34m\u001b[0m\u001b[0;34m\u001b[0m\u001b[0m\n\u001b[1;32m   1111\u001b[0m                     \u001b[0;32melse\u001b[0m\u001b[0;34m:\u001b[0m\u001b[0;34m\u001b[0m\u001b[0;34m\u001b[0m\u001b[0m\n",
            "\u001b[0;32m/usr/local/lib/python3.7/dist-packages/pandas/core/generic.py\u001b[0m in \u001b[0;36m_get_label_or_level_values\u001b[0;34m(self, key, axis)\u001b[0m\n\u001b[1;32m   1777\u001b[0m             \u001b[0mvalues\u001b[0m \u001b[0;34m=\u001b[0m \u001b[0mself\u001b[0m\u001b[0;34m.\u001b[0m\u001b[0maxes\u001b[0m\u001b[0;34m[\u001b[0m\u001b[0maxis\u001b[0m\u001b[0;34m]\u001b[0m\u001b[0;34m.\u001b[0m\u001b[0mget_level_values\u001b[0m\u001b[0;34m(\u001b[0m\u001b[0mkey\u001b[0m\u001b[0;34m)\u001b[0m\u001b[0;34m.\u001b[0m\u001b[0m_values\u001b[0m\u001b[0;34m\u001b[0m\u001b[0;34m\u001b[0m\u001b[0m\n\u001b[1;32m   1778\u001b[0m         \u001b[0;32melse\u001b[0m\u001b[0;34m:\u001b[0m\u001b[0;34m\u001b[0m\u001b[0;34m\u001b[0m\u001b[0m\n\u001b[0;32m-> 1779\u001b[0;31m             \u001b[0;32mraise\u001b[0m \u001b[0mKeyError\u001b[0m\u001b[0;34m(\u001b[0m\u001b[0mkey\u001b[0m\u001b[0;34m)\u001b[0m\u001b[0;34m\u001b[0m\u001b[0;34m\u001b[0m\u001b[0m\n\u001b[0m\u001b[1;32m   1780\u001b[0m \u001b[0;34m\u001b[0m\u001b[0m\n\u001b[1;32m   1781\u001b[0m         \u001b[0;31m# Check for duplicates\u001b[0m\u001b[0;34m\u001b[0m\u001b[0;34m\u001b[0m\u001b[0;34m\u001b[0m\u001b[0m\n",
            "\u001b[0;31mKeyError\u001b[0m: 'Feijão (em grão)(Kg/ha)'"
          ]
        }
      ],
      "source": [
        "br = pd.merge(geodf, feijão, on='mun', suffixes=('', '_y'))  # mesclar o dataframe e o shapefile em um objeto\n",
        "br = br.loc[:, br.columns != 'NM_MUNICIP']  # tirar a coluna NM_MUNICIP"
      ]
    },
    {
      "cell_type": "code",
      "source": [
        "br.head(10)"
      ],
      "metadata": {
        "id": "5tBqDLfCRaMj",
        "outputId": "6850f8c0-59e3-436a-eb56-33180cd60eec",
        "colab": {
          "base_uri": "https://localhost:8080/",
          "height": 1000
        }
      },
      "execution_count": 99,
      "outputs": [
        {
          "output_type": "execute_result",
          "data": {
            "text/plain": [
              "       mun             NM_MUN SIGLA  AREA_KM2  \\\n",
              "0  2400109              Acari    RN   608.466   \n",
              "1  2400208                Açu    RN  1303.442   \n",
              "2  2400307     Afonso Bezerra    RN   576.179   \n",
              "3  2400406          Água Nova    RN    50.684   \n",
              "4  2400505         Alexandria    RN   381.205   \n",
              "5  2400604      Almino Afonso    RN   128.038   \n",
              "6  2400703  Alto do Rodrigues    RN   191.334   \n",
              "7  2400802            Angicos    RN   741.582   \n",
              "8  2400901    Antônio Martins    RN   244.897   \n",
              "9  2401008              Apodi    RN  1602.477   \n",
              "\n",
              "                                            geometry               Município  \\\n",
              "0  POLYGON ((-36.62836 -6.27113, -36.62828 -6.271...              Acari (RN)   \n",
              "1  POLYGON ((-36.87317 -5.48598, -36.87427 -5.486...                Açu (RN)   \n",
              "2  POLYGON ((-36.43987 -5.36988, -36.45524 -5.486...     Afonso Bezerra (RN)   \n",
              "3  POLYGON ((-38.30905 -6.17740, -38.28854 -6.187...          Água Nova (RN)   \n",
              "4  POLYGON ((-37.90082 -6.31832, -37.88895 -6.322...         Alexandria (RN)   \n",
              "5  POLYGON ((-37.76511 -6.07730, -37.76194 -6.084...      Almino Afonso (RN)   \n",
              "6  POLYGON ((-36.71031 -5.32150, -36.66436 -5.372...  Alto do Rodrigues (RN)   \n",
              "7  POLYGON ((-36.57273 -5.58593, -36.49281 -5.595...            Angicos (RN)   \n",
              "8  POLYGON ((-37.90738 -6.14497, -37.90738 -6.145...    Antônio Martins (RN)   \n",
              "9  POLYGON ((-37.69110 -5.48236, -37.71163 -5.510...              Apodi (RN)   \n",
              "\n",
              "  Batata-doce (Kg/ha) Cana-de-açúcar(Kg/ha) Feijão (em grão)(Kg/ha)  \\\n",
              "0                   -                     -                     257   \n",
              "1               12333                 51000                     450   \n",
              "2                   -                     -                     421   \n",
              "3                   -                     -                     300   \n",
              "4                   -                 50000                     417   \n",
              "5               10000                 50000                     556   \n",
              "6                   -                     -                     500   \n",
              "7                   -                     -                     354   \n",
              "8                   -                     -                     450   \n",
              "9                9800                     -                     939   \n",
              "\n",
              "  Mandioca(Kg/ha) Melancia(Kg/ha) Milho (em grão)(Kg/ha)  \n",
              "0               -           16000                    500  \n",
              "1           10500           27324                    400  \n",
              "2            9333           27480                    500  \n",
              "3               -               -                    556  \n",
              "4               -               -                    550  \n",
              "5               -               -                    667  \n",
              "6               -           25000                    389  \n",
              "7               -               -                    400  \n",
              "8               -               -                    625  \n",
              "9            8560           28780                   1545  "
            ],
            "text/html": [
              "\n",
              "  <div id=\"df-1ac45385-a146-4918-a245-c28ca511c4db\">\n",
              "    <div class=\"colab-df-container\">\n",
              "      <div>\n",
              "<style scoped>\n",
              "    .dataframe tbody tr th:only-of-type {\n",
              "        vertical-align: middle;\n",
              "    }\n",
              "\n",
              "    .dataframe tbody tr th {\n",
              "        vertical-align: top;\n",
              "    }\n",
              "\n",
              "    .dataframe thead th {\n",
              "        text-align: right;\n",
              "    }\n",
              "</style>\n",
              "<table border=\"1\" class=\"dataframe\">\n",
              "  <thead>\n",
              "    <tr style=\"text-align: right;\">\n",
              "      <th></th>\n",
              "      <th>mun</th>\n",
              "      <th>NM_MUN</th>\n",
              "      <th>SIGLA</th>\n",
              "      <th>AREA_KM2</th>\n",
              "      <th>geometry</th>\n",
              "      <th>Município</th>\n",
              "      <th>Batata-doce (Kg/ha)</th>\n",
              "      <th>Cana-de-açúcar(Kg/ha)</th>\n",
              "      <th>Feijão (em grão)(Kg/ha)</th>\n",
              "      <th>Mandioca(Kg/ha)</th>\n",
              "      <th>Melancia(Kg/ha)</th>\n",
              "      <th>Milho (em grão)(Kg/ha)</th>\n",
              "    </tr>\n",
              "  </thead>\n",
              "  <tbody>\n",
              "    <tr>\n",
              "      <th>0</th>\n",
              "      <td>2400109</td>\n",
              "      <td>Acari</td>\n",
              "      <td>RN</td>\n",
              "      <td>608.466</td>\n",
              "      <td>POLYGON ((-36.62836 -6.27113, -36.62828 -6.271...</td>\n",
              "      <td>Acari (RN)</td>\n",
              "      <td>-</td>\n",
              "      <td>-</td>\n",
              "      <td>257</td>\n",
              "      <td>-</td>\n",
              "      <td>16000</td>\n",
              "      <td>500</td>\n",
              "    </tr>\n",
              "    <tr>\n",
              "      <th>1</th>\n",
              "      <td>2400208</td>\n",
              "      <td>Açu</td>\n",
              "      <td>RN</td>\n",
              "      <td>1303.442</td>\n",
              "      <td>POLYGON ((-36.87317 -5.48598, -36.87427 -5.486...</td>\n",
              "      <td>Açu (RN)</td>\n",
              "      <td>12333</td>\n",
              "      <td>51000</td>\n",
              "      <td>450</td>\n",
              "      <td>10500</td>\n",
              "      <td>27324</td>\n",
              "      <td>400</td>\n",
              "    </tr>\n",
              "    <tr>\n",
              "      <th>2</th>\n",
              "      <td>2400307</td>\n",
              "      <td>Afonso Bezerra</td>\n",
              "      <td>RN</td>\n",
              "      <td>576.179</td>\n",
              "      <td>POLYGON ((-36.43987 -5.36988, -36.45524 -5.486...</td>\n",
              "      <td>Afonso Bezerra (RN)</td>\n",
              "      <td>-</td>\n",
              "      <td>-</td>\n",
              "      <td>421</td>\n",
              "      <td>9333</td>\n",
              "      <td>27480</td>\n",
              "      <td>500</td>\n",
              "    </tr>\n",
              "    <tr>\n",
              "      <th>3</th>\n",
              "      <td>2400406</td>\n",
              "      <td>Água Nova</td>\n",
              "      <td>RN</td>\n",
              "      <td>50.684</td>\n",
              "      <td>POLYGON ((-38.30905 -6.17740, -38.28854 -6.187...</td>\n",
              "      <td>Água Nova (RN)</td>\n",
              "      <td>-</td>\n",
              "      <td>-</td>\n",
              "      <td>300</td>\n",
              "      <td>-</td>\n",
              "      <td>-</td>\n",
              "      <td>556</td>\n",
              "    </tr>\n",
              "    <tr>\n",
              "      <th>4</th>\n",
              "      <td>2400505</td>\n",
              "      <td>Alexandria</td>\n",
              "      <td>RN</td>\n",
              "      <td>381.205</td>\n",
              "      <td>POLYGON ((-37.90082 -6.31832, -37.88895 -6.322...</td>\n",
              "      <td>Alexandria (RN)</td>\n",
              "      <td>-</td>\n",
              "      <td>50000</td>\n",
              "      <td>417</td>\n",
              "      <td>-</td>\n",
              "      <td>-</td>\n",
              "      <td>550</td>\n",
              "    </tr>\n",
              "    <tr>\n",
              "      <th>5</th>\n",
              "      <td>2400604</td>\n",
              "      <td>Almino Afonso</td>\n",
              "      <td>RN</td>\n",
              "      <td>128.038</td>\n",
              "      <td>POLYGON ((-37.76511 -6.07730, -37.76194 -6.084...</td>\n",
              "      <td>Almino Afonso (RN)</td>\n",
              "      <td>10000</td>\n",
              "      <td>50000</td>\n",
              "      <td>556</td>\n",
              "      <td>-</td>\n",
              "      <td>-</td>\n",
              "      <td>667</td>\n",
              "    </tr>\n",
              "    <tr>\n",
              "      <th>6</th>\n",
              "      <td>2400703</td>\n",
              "      <td>Alto do Rodrigues</td>\n",
              "      <td>RN</td>\n",
              "      <td>191.334</td>\n",
              "      <td>POLYGON ((-36.71031 -5.32150, -36.66436 -5.372...</td>\n",
              "      <td>Alto do Rodrigues (RN)</td>\n",
              "      <td>-</td>\n",
              "      <td>-</td>\n",
              "      <td>500</td>\n",
              "      <td>-</td>\n",
              "      <td>25000</td>\n",
              "      <td>389</td>\n",
              "    </tr>\n",
              "    <tr>\n",
              "      <th>7</th>\n",
              "      <td>2400802</td>\n",
              "      <td>Angicos</td>\n",
              "      <td>RN</td>\n",
              "      <td>741.582</td>\n",
              "      <td>POLYGON ((-36.57273 -5.58593, -36.49281 -5.595...</td>\n",
              "      <td>Angicos (RN)</td>\n",
              "      <td>-</td>\n",
              "      <td>-</td>\n",
              "      <td>354</td>\n",
              "      <td>-</td>\n",
              "      <td>-</td>\n",
              "      <td>400</td>\n",
              "    </tr>\n",
              "    <tr>\n",
              "      <th>8</th>\n",
              "      <td>2400901</td>\n",
              "      <td>Antônio Martins</td>\n",
              "      <td>RN</td>\n",
              "      <td>244.897</td>\n",
              "      <td>POLYGON ((-37.90738 -6.14497, -37.90738 -6.145...</td>\n",
              "      <td>Antônio Martins (RN)</td>\n",
              "      <td>-</td>\n",
              "      <td>-</td>\n",
              "      <td>450</td>\n",
              "      <td>-</td>\n",
              "      <td>-</td>\n",
              "      <td>625</td>\n",
              "    </tr>\n",
              "    <tr>\n",
              "      <th>9</th>\n",
              "      <td>2401008</td>\n",
              "      <td>Apodi</td>\n",
              "      <td>RN</td>\n",
              "      <td>1602.477</td>\n",
              "      <td>POLYGON ((-37.69110 -5.48236, -37.71163 -5.510...</td>\n",
              "      <td>Apodi (RN)</td>\n",
              "      <td>9800</td>\n",
              "      <td>-</td>\n",
              "      <td>939</td>\n",
              "      <td>8560</td>\n",
              "      <td>28780</td>\n",
              "      <td>1545</td>\n",
              "    </tr>\n",
              "  </tbody>\n",
              "</table>\n",
              "</div>\n",
              "      <button class=\"colab-df-convert\" onclick=\"convertToInteractive('df-1ac45385-a146-4918-a245-c28ca511c4db')\"\n",
              "              title=\"Convert this dataframe to an interactive table.\"\n",
              "              style=\"display:none;\">\n",
              "        \n",
              "  <svg xmlns=\"http://www.w3.org/2000/svg\" height=\"24px\"viewBox=\"0 0 24 24\"\n",
              "       width=\"24px\">\n",
              "    <path d=\"M0 0h24v24H0V0z\" fill=\"none\"/>\n",
              "    <path d=\"M18.56 5.44l.94 2.06.94-2.06 2.06-.94-2.06-.94-.94-2.06-.94 2.06-2.06.94zm-11 1L8.5 8.5l.94-2.06 2.06-.94-2.06-.94L8.5 2.5l-.94 2.06-2.06.94zm10 10l.94 2.06.94-2.06 2.06-.94-2.06-.94-.94-2.06-.94 2.06-2.06.94z\"/><path d=\"M17.41 7.96l-1.37-1.37c-.4-.4-.92-.59-1.43-.59-.52 0-1.04.2-1.43.59L10.3 9.45l-7.72 7.72c-.78.78-.78 2.05 0 2.83L4 21.41c.39.39.9.59 1.41.59.51 0 1.02-.2 1.41-.59l7.78-7.78 2.81-2.81c.8-.78.8-2.07 0-2.86zM5.41 20L4 18.59l7.72-7.72 1.47 1.35L5.41 20z\"/>\n",
              "  </svg>\n",
              "      </button>\n",
              "      \n",
              "  <style>\n",
              "    .colab-df-container {\n",
              "      display:flex;\n",
              "      flex-wrap:wrap;\n",
              "      gap: 12px;\n",
              "    }\n",
              "\n",
              "    .colab-df-convert {\n",
              "      background-color: #E8F0FE;\n",
              "      border: none;\n",
              "      border-radius: 50%;\n",
              "      cursor: pointer;\n",
              "      display: none;\n",
              "      fill: #1967D2;\n",
              "      height: 32px;\n",
              "      padding: 0 0 0 0;\n",
              "      width: 32px;\n",
              "    }\n",
              "\n",
              "    .colab-df-convert:hover {\n",
              "      background-color: #E2EBFA;\n",
              "      box-shadow: 0px 1px 2px rgba(60, 64, 67, 0.3), 0px 1px 3px 1px rgba(60, 64, 67, 0.15);\n",
              "      fill: #174EA6;\n",
              "    }\n",
              "\n",
              "    [theme=dark] .colab-df-convert {\n",
              "      background-color: #3B4455;\n",
              "      fill: #D2E3FC;\n",
              "    }\n",
              "\n",
              "    [theme=dark] .colab-df-convert:hover {\n",
              "      background-color: #434B5C;\n",
              "      box-shadow: 0px 1px 3px 1px rgba(0, 0, 0, 0.15);\n",
              "      filter: drop-shadow(0px 1px 2px rgba(0, 0, 0, 0.3));\n",
              "      fill: #FFFFFF;\n",
              "    }\n",
              "  </style>\n",
              "\n",
              "      <script>\n",
              "        const buttonEl =\n",
              "          document.querySelector('#df-1ac45385-a146-4918-a245-c28ca511c4db button.colab-df-convert');\n",
              "        buttonEl.style.display =\n",
              "          google.colab.kernel.accessAllowed ? 'block' : 'none';\n",
              "\n",
              "        async function convertToInteractive(key) {\n",
              "          const element = document.querySelector('#df-1ac45385-a146-4918-a245-c28ca511c4db');\n",
              "          const dataTable =\n",
              "            await google.colab.kernel.invokeFunction('convertToInteractive',\n",
              "                                                     [key], {});\n",
              "          if (!dataTable) return;\n",
              "\n",
              "          const docLinkHtml = 'Like what you see? Visit the ' +\n",
              "            '<a target=\"_blank\" href=https://colab.research.google.com/notebooks/data_table.ipynb>data table notebook</a>'\n",
              "            + ' to learn more about interactive tables.';\n",
              "          element.innerHTML = '';\n",
              "          dataTable['output_type'] = 'display_data';\n",
              "          await google.colab.output.renderOutput(dataTable, element);\n",
              "          const docLink = document.createElement('div');\n",
              "          docLink.innerHTML = docLinkHtml;\n",
              "          element.appendChild(docLink);\n",
              "        }\n",
              "      </script>\n",
              "    </div>\n",
              "  </div>\n",
              "  "
            ]
          },
          "metadata": {},
          "execution_count": 99
        }
      ]
    },
    {
      "cell_type": "code",
      "source": [
        "br.columns"
      ],
      "metadata": {
        "id": "WUNjWheQMlGs",
        "outputId": "e37621be-9af4-42b3-b667-f76d4d241f56",
        "colab": {
          "base_uri": "https://localhost:8080/"
        }
      },
      "execution_count": 47,
      "outputs": [
        {
          "output_type": "execute_result",
          "data": {
            "text/plain": [
              "Index(['mun', 'NM_MUN', 'SIGLA', 'AREA_KM2', 'geometry', 'Município',\n",
              "       'Batata-doce (Kg/ha)', 'Cana-de-açúcar(Kg/ha)',\n",
              "       'Feijão (em grão)(Kg/ha)', 'Mandioca(Kg/ha)', 'Melancia(Kg/ha)',\n",
              "       'Milho (em grão)(Kg/ha)'],\n",
              "      dtype='object')"
            ]
          },
          "metadata": {},
          "execution_count": 47
        }
      ]
    },
    {
      "cell_type": "code",
      "execution_count": 100,
      "metadata": {
        "id": "XrjPYCE6PUmO"
      },
      "outputs": [],
      "source": [
        "variavel = 'Feijão (em grão)(Kg/ha)'      # escolher a variável e colocar entre aspas"
      ]
    },
    {
      "cell_type": "code",
      "execution_count": 103,
      "metadata": {
        "id": "9NLtH2C6V4MF",
        "outputId": "e2e95d2b-a018-4798-9742-ee1ad375c9c6",
        "colab": {
          "base_uri": "https://localhost:8080/"
        }
      },
      "outputs": [
        {
          "output_type": "execute_result",
          "data": {
            "text/plain": [
              "count     167\n",
              "unique     69\n",
              "top       500\n",
              "freq       24\n",
              "Name: Feijão (em grão)(Kg/ha), dtype: object"
            ]
          },
          "metadata": {},
          "execution_count": 103
        }
      ],
      "source": [
        "# resumo estatístico\n",
        "br[variavel].describe()"
      ]
    },
    {
      "cell_type": "code",
      "execution_count": 86,
      "metadata": {
        "id": "F9mMZHxeWVkw",
        "outputId": "6ae231d6-2f89-4e67-b670-f0374b34f2a9",
        "colab": {
          "base_uri": "https://localhost:8080/",
          "height": 265
        }
      },
      "outputs": [
        {
          "output_type": "display_data",
          "data": {
            "text/plain": [
              "<Figure size 432x288 with 1 Axes>"
            ],
            "image/png": "[encoded data removed]"
          },
          "metadata": {
            "needs_background": "light"
          }
        }
      ],
      "source": [
        "# histograma\n",
        "br[variavel].hist();"
      ]
    },
    {
      "cell_type": "code",
      "source": [
        "ax = mapa.plot(figsize=(16,8), column='Feijão (em grão)(Kg/ha)', legend = True)"
      ],
      "metadata": {
        "id": "Eis46LQUH3zt",
        "outputId": "f8b15ec8-8270-4f3e-c320-c4fefd5c5910",
        "colab": {
          "base_uri": "https://localhost:8080/",
          "height": 1000
        }
      },
      "execution_count": 121,
      "outputs": [
        {
          "output_type": "display_data",
          "data": {
            "text/plain": [
              "<Figure size 1152x576 with 1 Axes>"
            ],
            "image/png": "[encoded data removed]"
          },
          "metadata": {
            "needs_background": "light"
          }
        }
      ]
    },
    {
      "cell_type": "code",
      "execution_count": 60,
      "metadata": {
        "id": "R7oifRXwXtu2",
        "outputId": "cd9a584b-2d83-4148-e6f6-1d529a7747f0",
        "colab": {
          "base_uri": "https://localhost:8080/",
          "height": 437
        }
      },
      "outputs": [
        {
          "output_type": "stream",
          "name": "stderr",
          "text": [
            "/usr/local/lib/python3.7/dist-packages/seaborn/_decorators.py:43: FutureWarning: Pass the following variable as a keyword arg: x. From version 0.12, the only valid positional argument will be `data`, and passing other arguments without an explicit keyword will result in an error or misinterpretation.\n",
            "  FutureWarning\n",
            "/usr/local/lib/python3.7/dist-packages/seaborn/_core.py:1326: UserWarning: Vertical orientation ignored with only `x` specified.\n",
            "  warnings.warn(single_var_warning.format(\"Vertical\", \"x\"))\n"
          ]
        },
        {
          "output_type": "error",
          "ename": "TypeError",
          "evalue": "ignored",
          "traceback": [
            "\u001b[0;31m---------------------------------------------------------------------------\u001b[0m",
            "\u001b[0;31mTypeError\u001b[0m                                 Traceback (most recent call last)",
            "\u001b[0;32m<ipython-input-60-f08ce62cb518>\u001b[0m in \u001b[0;36m<module>\u001b[0;34m()\u001b[0m\n\u001b[1;32m      1\u001b[0m \u001b[0;31m# boxplot\u001b[0m\u001b[0;34m\u001b[0m\u001b[0;34m\u001b[0m\u001b[0;34m\u001b[0m\u001b[0m\n\u001b[0;32m----> 2\u001b[0;31m \u001b[0msns\u001b[0m\u001b[0;34m.\u001b[0m\u001b[0mboxplot\u001b[0m\u001b[0;34m(\u001b[0m\u001b[0mbr\u001b[0m\u001b[0;34m[\u001b[0m\u001b[0mvariavel\u001b[0m\u001b[0;34m]\u001b[0m\u001b[0;34m,\u001b[0m \u001b[0morient\u001b[0m\u001b[0;34m=\u001b[0m\u001b[0;34m'v'\u001b[0m\u001b[0;34m)\u001b[0m\u001b[0;34m;\u001b[0m\u001b[0;34m\u001b[0m\u001b[0;34m\u001b[0m\u001b[0m\n\u001b[0m",
            "\u001b[0;32m/usr/local/lib/python3.7/dist-packages/seaborn/_decorators.py\u001b[0m in \u001b[0;36minner_f\u001b[0;34m(*args, **kwargs)\u001b[0m\n\u001b[1;32m     44\u001b[0m             )\n\u001b[1;32m     45\u001b[0m         \u001b[0mkwargs\u001b[0m\u001b[0;34m.\u001b[0m\u001b[0mupdate\u001b[0m\u001b[0;34m(\u001b[0m\u001b[0;34m{\u001b[0m\u001b[0mk\u001b[0m\u001b[0;34m:\u001b[0m \u001b[0marg\u001b[0m \u001b[0;32mfor\u001b[0m \u001b[0mk\u001b[0m\u001b[0;34m,\u001b[0m \u001b[0marg\u001b[0m \u001b[0;32min\u001b[0m \u001b[0mzip\u001b[0m\u001b[0;34m(\u001b[0m\u001b[0msig\u001b[0m\u001b[0;34m.\u001b[0m\u001b[0mparameters\u001b[0m\u001b[0;34m,\u001b[0m \u001b[0margs\u001b[0m\u001b[0;34m)\u001b[0m\u001b[0;34m}\u001b[0m\u001b[0;34m)\u001b[0m\u001b[0;34m\u001b[0m\u001b[0;34m\u001b[0m\u001b[0m\n\u001b[0;32m---> 46\u001b[0;31m         \u001b[0;32mreturn\u001b[0m \u001b[0mf\u001b[0m\u001b[0;34m(\u001b[0m\u001b[0;34m**\u001b[0m\u001b[0mkwargs\u001b[0m\u001b[0;34m)\u001b[0m\u001b[0;34m\u001b[0m\u001b[0;34m\u001b[0m\u001b[0m\n\u001b[0m\u001b[1;32m     47\u001b[0m     \u001b[0;32mreturn\u001b[0m \u001b[0minner_f\u001b[0m\u001b[0;34m\u001b[0m\u001b[0;34m\u001b[0m\u001b[0m\n\u001b[1;32m     48\u001b[0m \u001b[0;34m\u001b[0m\u001b[0m\n",
            "\u001b[0;32m/usr/local/lib/python3.7/dist-packages/seaborn/categorical.py\u001b[0m in \u001b[0;36mboxplot\u001b[0;34m(x, y, hue, data, order, hue_order, orient, color, palette, saturation, width, dodge, fliersize, linewidth, whis, ax, **kwargs)\u001b[0m\n\u001b[1;32m   2243\u001b[0m     plotter = _BoxPlotter(x, y, hue, data, order, hue_order,\n\u001b[1;32m   2244\u001b[0m                           \u001b[0morient\u001b[0m\u001b[0;34m,\u001b[0m \u001b[0mcolor\u001b[0m\u001b[0;34m,\u001b[0m \u001b[0mpalette\u001b[0m\u001b[0;34m,\u001b[0m \u001b[0msaturation\u001b[0m\u001b[0;34m,\u001b[0m\u001b[0;34m\u001b[0m\u001b[0;34m\u001b[0m\u001b[0m\n\u001b[0;32m-> 2245\u001b[0;31m                           width, dodge, fliersize, linewidth)\n\u001b[0m\u001b[1;32m   2246\u001b[0m \u001b[0;34m\u001b[0m\u001b[0m\n\u001b[1;32m   2247\u001b[0m     \u001b[0;32mif\u001b[0m \u001b[0max\u001b[0m \u001b[0;32mis\u001b[0m \u001b[0;32mNone\u001b[0m\u001b[0;34m:\u001b[0m\u001b[0;34m\u001b[0m\u001b[0;34m\u001b[0m\u001b[0m\n",
            "\u001b[0;32m/usr/local/lib/python3.7/dist-packages/seaborn/categorical.py\u001b[0m in \u001b[0;36m__init__\u001b[0;34m(self, x, y, hue, data, order, hue_order, orient, color, palette, saturation, width, dodge, fliersize, linewidth)\u001b[0m\n\u001b[1;32m    404\u001b[0m                  width, dodge, fliersize, linewidth):\n\u001b[1;32m    405\u001b[0m \u001b[0;34m\u001b[0m\u001b[0m\n\u001b[0;32m--> 406\u001b[0;31m         \u001b[0mself\u001b[0m\u001b[0;34m.\u001b[0m\u001b[0mestablish_variables\u001b[0m\u001b[0;34m(\u001b[0m\u001b[0mx\u001b[0m\u001b[0;34m,\u001b[0m \u001b[0my\u001b[0m\u001b[0;34m,\u001b[0m \u001b[0mhue\u001b[0m\u001b[0;34m,\u001b[0m \u001b[0mdata\u001b[0m\u001b[0;34m,\u001b[0m \u001b[0morient\u001b[0m\u001b[0;34m,\u001b[0m \u001b[0morder\u001b[0m\u001b[0;34m,\u001b[0m \u001b[0mhue_order\u001b[0m\u001b[0;34m)\u001b[0m\u001b[0;34m\u001b[0m\u001b[0;34m\u001b[0m\u001b[0m\n\u001b[0m\u001b[1;32m    407\u001b[0m         \u001b[0mself\u001b[0m\u001b[0;34m.\u001b[0m\u001b[0mestablish_colors\u001b[0m\u001b[0;34m(\u001b[0m\u001b[0mcolor\u001b[0m\u001b[0;34m,\u001b[0m \u001b[0mpalette\u001b[0m\u001b[0;34m,\u001b[0m \u001b[0msaturation\u001b[0m\u001b[0;34m)\u001b[0m\u001b[0;34m\u001b[0m\u001b[0;34m\u001b[0m\u001b[0m\n\u001b[1;32m    408\u001b[0m \u001b[0;34m\u001b[0m\u001b[0m\n",
            "\u001b[0;32m/usr/local/lib/python3.7/dist-packages/seaborn/categorical.py\u001b[0m in \u001b[0;36mestablish_variables\u001b[0;34m(self, x, y, hue, data, orient, order, hue_order, units)\u001b[0m\n\u001b[1;32m    155\u001b[0m             \u001b[0;31m# Figure out the plotting orientation\u001b[0m\u001b[0;34m\u001b[0m\u001b[0;34m\u001b[0m\u001b[0;34m\u001b[0m\u001b[0m\n\u001b[1;32m    156\u001b[0m             orient = infer_orient(\n\u001b[0;32m--> 157\u001b[0;31m                 \u001b[0mx\u001b[0m\u001b[0;34m,\u001b[0m \u001b[0my\u001b[0m\u001b[0;34m,\u001b[0m \u001b[0morient\u001b[0m\u001b[0;34m,\u001b[0m \u001b[0mrequire_numeric\u001b[0m\u001b[0;34m=\u001b[0m\u001b[0mself\u001b[0m\u001b[0;34m.\u001b[0m\u001b[0mrequire_numeric\u001b[0m\u001b[0;34m\u001b[0m\u001b[0;34m\u001b[0m\u001b[0m\n\u001b[0m\u001b[1;32m    158\u001b[0m             )\n\u001b[1;32m    159\u001b[0m \u001b[0;34m\u001b[0m\u001b[0m\n",
            "\u001b[0;32m/usr/local/lib/python3.7/dist-packages/seaborn/_core.py\u001b[0m in \u001b[0;36minfer_orient\u001b[0;34m(x, y, orient, require_numeric)\u001b[0m\n\u001b[1;32m   1326\u001b[0m             \u001b[0mwarnings\u001b[0m\u001b[0;34m.\u001b[0m\u001b[0mwarn\u001b[0m\u001b[0;34m(\u001b[0m\u001b[0msingle_var_warning\u001b[0m\u001b[0;34m.\u001b[0m\u001b[0mformat\u001b[0m\u001b[0;34m(\u001b[0m\u001b[0;34m\"Vertical\"\u001b[0m\u001b[0;34m,\u001b[0m \u001b[0;34m\"x\"\u001b[0m\u001b[0;34m)\u001b[0m\u001b[0;34m)\u001b[0m\u001b[0;34m\u001b[0m\u001b[0;34m\u001b[0m\u001b[0m\n\u001b[1;32m   1327\u001b[0m         \u001b[0;32mif\u001b[0m \u001b[0mrequire_numeric\u001b[0m \u001b[0;32mand\u001b[0m \u001b[0mx_type\u001b[0m \u001b[0;34m!=\u001b[0m \u001b[0;34m\"numeric\"\u001b[0m\u001b[0;34m:\u001b[0m\u001b[0;34m\u001b[0m\u001b[0;34m\u001b[0m\u001b[0m\n\u001b[0;32m-> 1328\u001b[0;31m             \u001b[0;32mraise\u001b[0m \u001b[0mTypeError\u001b[0m\u001b[0;34m(\u001b[0m\u001b[0mnonnumeric_dv_error\u001b[0m\u001b[0;34m.\u001b[0m\u001b[0mformat\u001b[0m\u001b[0;34m(\u001b[0m\u001b[0;34m\"Horizontal\"\u001b[0m\u001b[0;34m,\u001b[0m \u001b[0;34m\"x\"\u001b[0m\u001b[0;34m)\u001b[0m\u001b[0;34m)\u001b[0m\u001b[0;34m\u001b[0m\u001b[0;34m\u001b[0m\u001b[0m\n\u001b[0m\u001b[1;32m   1329\u001b[0m         \u001b[0;32mreturn\u001b[0m \u001b[0;34m\"h\"\u001b[0m\u001b[0;34m\u001b[0m\u001b[0;34m\u001b[0m\u001b[0m\n\u001b[1;32m   1330\u001b[0m \u001b[0;34m\u001b[0m\u001b[0m\n",
            "\u001b[0;31mTypeError\u001b[0m: Horizontal orientation requires numeric `x` variable."
          ]
        }
      ],
      "source": [
        "# boxplot\n",
        "sns.boxplot(br[variavel], orient='v');"
      ]
    },
    {
      "cell_type": "code",
      "execution_count": 61,
      "metadata": {
        "id": "1DTyJTtaWRA3",
        "outputId": "a492ce4a-02b4-4db5-fe9d-7477752adba0",
        "colab": {
          "base_uri": "https://localhost:8080/",
          "height": 344
        }
      },
      "outputs": [
        {
          "output_type": "error",
          "ename": "KeyError",
          "evalue": "ignored",
          "traceback": [
            "\u001b[0;31m---------------------------------------------------------------------------\u001b[0m",
            "\u001b[0;31mKeyError\u001b[0m                                  Traceback (most recent call last)",
            "\u001b[0;32m<ipython-input-61-8b982c0bf57a>\u001b[0m in \u001b[0;36m<module>\u001b[0;34m()\u001b[0m\n\u001b[1;32m      1\u001b[0m \u001b[0;31m# visualizar os municípios em ordem decrescente (ou crescente)\u001b[0m\u001b[0;34m\u001b[0m\u001b[0;34m\u001b[0m\u001b[0;34m\u001b[0m\u001b[0m\n\u001b[0;32m----> 2\u001b[0;31m \u001b[0mbr\u001b[0m\u001b[0;34m.\u001b[0m\u001b[0msort_values\u001b[0m\u001b[0;34m(\u001b[0m\u001b[0mvariavel\u001b[0m\u001b[0;34m,\u001b[0m \u001b[0mascending\u001b[0m\u001b[0;34m=\u001b[0m\u001b[0;32mFalse\u001b[0m\u001b[0;34m)\u001b[0m\u001b[0;34m[\u001b[0m\u001b[0;34m[\u001b[0m\u001b[0;34m'nome_mun'\u001b[0m\u001b[0;34m,\u001b[0m \u001b[0;34m'nome_uf'\u001b[0m\u001b[0;34m,\u001b[0m \u001b[0;34m'nome_meso'\u001b[0m\u001b[0;34m,\u001b[0m \u001b[0mvariavel\u001b[0m\u001b[0;34m]\u001b[0m\u001b[0;34m]\u001b[0m\u001b[0;34m.\u001b[0m\u001b[0mhead\u001b[0m\u001b[0;34m(\u001b[0m\u001b[0;36m10\u001b[0m\u001b[0;34m)\u001b[0m\u001b[0;34m\u001b[0m\u001b[0;34m\u001b[0m\u001b[0m\n\u001b[0m",
            "\u001b[0;32m/usr/local/lib/python3.7/dist-packages/geopandas/geodataframe.py\u001b[0m in \u001b[0;36m__getitem__\u001b[0;34m(self, key)\u001b[0m\n\u001b[1;32m   1325\u001b[0m         \u001b[0mGeoDataFrame\u001b[0m\u001b[0;34m.\u001b[0m\u001b[0;34m\u001b[0m\u001b[0;34m\u001b[0m\u001b[0m\n\u001b[1;32m   1326\u001b[0m         \"\"\"\n\u001b[0;32m-> 1327\u001b[0;31m         \u001b[0mresult\u001b[0m \u001b[0;34m=\u001b[0m \u001b[0msuper\u001b[0m\u001b[0;34m(\u001b[0m\u001b[0;34m)\u001b[0m\u001b[0;34m.\u001b[0m\u001b[0m__getitem__\u001b[0m\u001b[0;34m(\u001b[0m\u001b[0mkey\u001b[0m\u001b[0;34m)\u001b[0m\u001b[0;34m\u001b[0m\u001b[0;34m\u001b[0m\u001b[0m\n\u001b[0m\u001b[1;32m   1328\u001b[0m         \u001b[0mgeo_col\u001b[0m \u001b[0;34m=\u001b[0m \u001b[0mself\u001b[0m\u001b[0;34m.\u001b[0m\u001b[0m_geometry_column_name\u001b[0m\u001b[0;34m\u001b[0m\u001b[0;34m\u001b[0m\u001b[0m\n\u001b[1;32m   1329\u001b[0m         \u001b[0;32mif\u001b[0m \u001b[0misinstance\u001b[0m\u001b[0;34m(\u001b[0m\u001b[0mresult\u001b[0m\u001b[0;34m,\u001b[0m \u001b[0mSeries\u001b[0m\u001b[0;34m)\u001b[0m \u001b[0;32mand\u001b[0m \u001b[0misinstance\u001b[0m\u001b[0;34m(\u001b[0m\u001b[0mresult\u001b[0m\u001b[0;34m.\u001b[0m\u001b[0mdtype\u001b[0m\u001b[0;34m,\u001b[0m \u001b[0mGeometryDtype\u001b[0m\u001b[0;34m)\u001b[0m\u001b[0;34m:\u001b[0m\u001b[0;34m\u001b[0m\u001b[0;34m\u001b[0m\u001b[0m\n",
            "\u001b[0;32m/usr/local/lib/python3.7/dist-packages/pandas/core/frame.py\u001b[0m in \u001b[0;36m__getitem__\u001b[0;34m(self, key)\u001b[0m\n\u001b[1;32m   3462\u001b[0m             \u001b[0;32mif\u001b[0m \u001b[0mis_iterator\u001b[0m\u001b[0;34m(\u001b[0m\u001b[0mkey\u001b[0m\u001b[0;34m)\u001b[0m\u001b[0;34m:\u001b[0m\u001b[0;34m\u001b[0m\u001b[0;34m\u001b[0m\u001b[0m\n\u001b[1;32m   3463\u001b[0m                 \u001b[0mkey\u001b[0m \u001b[0;34m=\u001b[0m \u001b[0mlist\u001b[0m\u001b[0;34m(\u001b[0m\u001b[0mkey\u001b[0m\u001b[0;34m)\u001b[0m\u001b[0;34m\u001b[0m\u001b[0;34m\u001b[0m\u001b[0m\n\u001b[0;32m-> 3464\u001b[0;31m             \u001b[0mindexer\u001b[0m \u001b[0;34m=\u001b[0m \u001b[0mself\u001b[0m\u001b[0;34m.\u001b[0m\u001b[0mloc\u001b[0m\u001b[0;34m.\u001b[0m\u001b[0m_get_listlike_indexer\u001b[0m\u001b[0;34m(\u001b[0m\u001b[0mkey\u001b[0m\u001b[0;34m,\u001b[0m \u001b[0maxis\u001b[0m\u001b[0;34m=\u001b[0m\u001b[0;36m1\u001b[0m\u001b[0;34m)\u001b[0m\u001b[0;34m[\u001b[0m\u001b[0;36m1\u001b[0m\u001b[0;34m]\u001b[0m\u001b[0;34m\u001b[0m\u001b[0;34m\u001b[0m\u001b[0m\n\u001b[0m\u001b[1;32m   3465\u001b[0m \u001b[0;34m\u001b[0m\u001b[0m\n\u001b[1;32m   3466\u001b[0m         \u001b[0;31m# take() does not accept boolean indexers\u001b[0m\u001b[0;34m\u001b[0m\u001b[0;34m\u001b[0m\u001b[0;34m\u001b[0m\u001b[0m\n",
            "\u001b[0;32m/usr/local/lib/python3.7/dist-packages/pandas/core/indexing.py\u001b[0m in \u001b[0;36m_get_listlike_indexer\u001b[0;34m(self, key, axis)\u001b[0m\n\u001b[1;32m   1312\u001b[0m             \u001b[0mkeyarr\u001b[0m\u001b[0;34m,\u001b[0m \u001b[0mindexer\u001b[0m\u001b[0;34m,\u001b[0m \u001b[0mnew_indexer\u001b[0m \u001b[0;34m=\u001b[0m \u001b[0max\u001b[0m\u001b[0;34m.\u001b[0m\u001b[0m_reindex_non_unique\u001b[0m\u001b[0;34m(\u001b[0m\u001b[0mkeyarr\u001b[0m\u001b[0;34m)\u001b[0m\u001b[0;34m\u001b[0m\u001b[0;34m\u001b[0m\u001b[0m\n\u001b[1;32m   1313\u001b[0m \u001b[0;34m\u001b[0m\u001b[0m\n\u001b[0;32m-> 1314\u001b[0;31m         \u001b[0mself\u001b[0m\u001b[0;34m.\u001b[0m\u001b[0m_validate_read_indexer\u001b[0m\u001b[0;34m(\u001b[0m\u001b[0mkeyarr\u001b[0m\u001b[0;34m,\u001b[0m \u001b[0mindexer\u001b[0m\u001b[0;34m,\u001b[0m \u001b[0maxis\u001b[0m\u001b[0;34m)\u001b[0m\u001b[0;34m\u001b[0m\u001b[0;34m\u001b[0m\u001b[0m\n\u001b[0m\u001b[1;32m   1315\u001b[0m \u001b[0;34m\u001b[0m\u001b[0m\n\u001b[1;32m   1316\u001b[0m         if needs_i8_conversion(ax.dtype) or isinstance(\n",
            "\u001b[0;32m/usr/local/lib/python3.7/dist-packages/pandas/core/indexing.py\u001b[0m in \u001b[0;36m_validate_read_indexer\u001b[0;34m(self, key, indexer, axis)\u001b[0m\n\u001b[1;32m   1375\u001b[0m \u001b[0;34m\u001b[0m\u001b[0m\n\u001b[1;32m   1376\u001b[0m             \u001b[0mnot_found\u001b[0m \u001b[0;34m=\u001b[0m \u001b[0mlist\u001b[0m\u001b[0;34m(\u001b[0m\u001b[0mensure_index\u001b[0m\u001b[0;34m(\u001b[0m\u001b[0mkey\u001b[0m\u001b[0;34m)\u001b[0m\u001b[0;34m[\u001b[0m\u001b[0mmissing_mask\u001b[0m\u001b[0;34m.\u001b[0m\u001b[0mnonzero\u001b[0m\u001b[0;34m(\u001b[0m\u001b[0;34m)\u001b[0m\u001b[0;34m[\u001b[0m\u001b[0;36m0\u001b[0m\u001b[0;34m]\u001b[0m\u001b[0;34m]\u001b[0m\u001b[0;34m.\u001b[0m\u001b[0munique\u001b[0m\u001b[0;34m(\u001b[0m\u001b[0;34m)\u001b[0m\u001b[0;34m)\u001b[0m\u001b[0;34m\u001b[0m\u001b[0;34m\u001b[0m\u001b[0m\n\u001b[0;32m-> 1377\u001b[0;31m             \u001b[0;32mraise\u001b[0m \u001b[0mKeyError\u001b[0m\u001b[0;34m(\u001b[0m\u001b[0;34mf\"{not_found} not in index\"\u001b[0m\u001b[0;34m)\u001b[0m\u001b[0;34m\u001b[0m\u001b[0;34m\u001b[0m\u001b[0m\n\u001b[0m\u001b[1;32m   1378\u001b[0m \u001b[0;34m\u001b[0m\u001b[0m\n\u001b[1;32m   1379\u001b[0m \u001b[0;34m\u001b[0m\u001b[0m\n",
            "\u001b[0;31mKeyError\u001b[0m: \"['nome_mun', 'nome_uf', 'nome_meso'] not in index\""
          ]
        }
      ],
      "source": [
        "# visualizar os municípios em ordem decrescente (ou crescente)\n",
        "br.sort_values(variavel, ascending=False)[['nome_mun', 'nome_uf', 'nome_meso', variavel]].head(10)"
      ]
    },
    {
      "cell_type": "code",
      "execution_count": null,
      "metadata": {
        "id": "pOqTBLrpPUm0"
      },
      "outputs": [],
      "source": [
        "# mapa temático - simples\n",
        "br.plot(variavel, legend=True);"
      ]
    },
    {
      "cell_type": "code",
      "execution_count": null,
      "metadata": {
        "id": "3CwxoSK4PUnE"
      },
      "outputs": [],
      "source": [
        "# mapa temático - quantiles\n",
        "br.plot(column=variavel, figsize=(10, 10), scheme='Quantiles', cmap='OrRd', legend=True, k=4);"
      ]
    },
    {
      "cell_type": "code",
      "execution_count": null,
      "metadata": {
        "id": "E69kzf3fPUno"
      },
      "outputs": [],
      "source": [
        "# mapa temático - equal_interval\n",
        "br.plot(column=variavel, figsize=(10, 10), scheme='Equal_Interval', cmap='OrRd', legend=True, k=4);"
      ]
    },
    {
      "cell_type": "code",
      "execution_count": null,
      "metadata": {
        "id": "6z-6UP5bqZU2"
      },
      "outputs": [],
      "source": [
        "# intervalos de valores definidos pelo usuário\n",
        "referencia = [10000, 500000, 1000000, 4000000]     # valores de referência considera 'abaixo que'\n",
        "labels = ['a: 0 - 10 mil', 'b: 10 mil - 500 mil', 'c: 500 mil - 1 milhão', 'd: 1 milhão - 4 milhões']  # letras por causa de ordenação alfabética\n",
        "valores = br[variavel]\n",
        "quantis = mc.UserDefined(valores, referencia)\n",
        "cl = [labels[i] for i in quantis.yb]\n",
        "df = br.assign(cl=cl)\n",
        "df.cl = pd.Categorical(df.cl, ordered=True, categories=labels)\n",
        "df.plot(column='cl', figsize=(10, 10), cmap='OrRd', legend=True);"
      ]
    },
    {
      "cell_type": "code",
      "execution_count": null,
      "metadata": {
        "id": "AmjNWyeEPUn-"
      },
      "outputs": [],
      "source": [
        "# obter matriz de vizinhança no formato queen\n",
        "w = Queen.from_dataframe(br)\n",
        "w.transform = 'r'\n",
        "# calcular I de Moran global para a variável escolhida\n",
        "y = br[variavel].values\n",
        "moran = Moran(y, w)\n",
        "moran.I"
      ]
    },
    {
      "cell_type": "code",
      "source": [
        "br.shape"
      ],
      "metadata": {
        "id": "Fmk_lmp6E5Bi"
      },
      "execution_count": null,
      "outputs": []
    },
    {
      "cell_type": "code",
      "source": [
        "# ilhas\n",
        "br.query('index == 1523 or index == 3493')"
      ],
      "metadata": {
        "id": "QrOSffoLEZ6y"
      },
      "execution_count": null,
      "outputs": []
    },
    {
      "cell_type": "code",
      "source": [
        "# retirar ilhas\n",
        "br = br.drop([1523, 3493]) # retira F. Noronha e Ilhabela"
      ],
      "metadata": {
        "id": "SRAfgeS8Esab"
      },
      "execution_count": null,
      "outputs": []
    },
    {
      "cell_type": "markdown",
      "source": [
        "O sistema de referência WGS84 (*World Geodetic System*, 1984) é bastante utilizado em sistemas GPS e aplicativos da Google, por exemplo). A Google utiliza informações espaciais que são armazenadas como WGS84 e projetadas para WGS84 (EPSG: 4326) para o Google Earth e Pseudo Mercator (EPSG: 3857) para o Google Maps.\n",
        "\n",
        "Fonte: https://geopandas.org/en/stable/docs/user_guide/projections.html\n",
        "\n"
      ],
      "metadata": {
        "id": "srSIgDvmKSTD"
      }
    },
    {
      "cell_type": "code",
      "source": [
        "# ajustando o sistema de referência de coordenadas\n",
        "br = br.to_crs(epsg=3395)\n",
        "br.shape"
      ],
      "metadata": {
        "id": "KKFHrxdjE0f1"
      },
      "execution_count": null,
      "outputs": []
    },
    {
      "cell_type": "code",
      "source": [
        "# obter matriz de vizinhança no formato queen\n",
        "w = Queen.from_dataframe(br)\n",
        "w.transform = 'r'\n",
        "# calcular I de Moran global para a variável escolhida\n",
        "y = br[variavel].values\n",
        "moran = Moran(y, w)\n",
        "moran.I"
      ],
      "metadata": {
        "id": "PdHsD4eFFLRR"
      },
      "execution_count": null,
      "outputs": []
    },
    {
      "cell_type": "code",
      "execution_count": null,
      "metadata": {
        "id": "3j98Tsc7PUoD"
      },
      "outputs": [],
      "source": [
        "# valor-p   nível de significância: 0,05\n",
        "moran.p_sim"
      ]
    },
    {
      "cell_type": "code",
      "execution_count": null,
      "metadata": {
        "id": "VtEjLF91PUoN"
      },
      "outputs": [],
      "source": [
        "# só o diagrama de dispersão\n",
        "moran_loc = Moran_Local(y, w)\n",
        "moran_scatterplot(moran_loc, p=0.05);"
      ]
    },
    {
      "cell_type": "code",
      "execution_count": null,
      "metadata": {
        "id": "r09Q8KvlPUoS"
      },
      "outputs": [],
      "source": [
        "# mapa LISA\n",
        "lisa_cluster(moran_loc, br, p=0.05, figsize = (9,9));"
      ]
    },
    {
      "cell_type": "markdown",
      "metadata": {
        "id": "WJoHlFnL_rVL"
      },
      "source": [
        "# Escolher partes do Brasil:\n",
        "\n",
        "Unir estados para formar as regiões do Brasil."
      ]
    },
    {
      "cell_type": "code",
      "execution_count": null,
      "metadata": {
        "id": "KvgWxRti_yb_"
      },
      "outputs": [],
      "source": [
        "br.nome_uf.unique()"
      ]
    },
    {
      "cell_type": "code",
      "execution_count": null,
      "metadata": {
        "id": "ecDcHUtP_v6L"
      },
      "outputs": [],
      "source": [
        "SE = br.query('nome_uf == [\"Minas Gerais\", \"São Paulo\", \"Rio de Janeiro\", \"Espírito Santo\"]')"
      ]
    },
    {
      "cell_type": "code",
      "source": [
        "SE.shape"
      ],
      "metadata": {
        "id": "b6rINIBYPrGP"
      },
      "execution_count": null,
      "outputs": []
    },
    {
      "cell_type": "code",
      "source": [
        "SE.plot();"
      ],
      "metadata": {
        "id": "n58MaL9CIUZO"
      },
      "execution_count": null,
      "outputs": []
    },
    {
      "cell_type": "code",
      "execution_count": null,
      "metadata": {
        "id": "wvAfTZuOANam"
      },
      "outputs": [],
      "source": [
        "# mapa temático - quantiles\n",
        "SE.plot(column=variavel, figsize=(10, 10), scheme='Quantiles', cmap='OrRd', legend=True, k=4);"
      ]
    },
    {
      "cell_type": "code",
      "source": [
        "# resumo estatístico - para auxiliar na construção dos intervalos\n",
        "SE[variavel].describe()"
      ],
      "metadata": {
        "id": "_g_yrcSMCqwC"
      },
      "execution_count": null,
      "outputs": []
    },
    {
      "cell_type": "code",
      "source": [
        "# intervalos de valores definidos pelo usuário\n",
        "referencia = [100, 7000, 3480000]     # valores de referência considera 'abaixo que'\n",
        "labels = ['a: 0 - 100', 'b: 100 - 7 mil', 'c: 7 mil - 348 mil']  # letras por causa de ordenação alfabética\n",
        "valores = SE[variavel]\n",
        "quantis = mc.UserDefined(valores, referencia)\n",
        "cl = [labels[i] for i in quantis.yb]\n",
        "df = SE.assign(cl=cl)\n",
        "df.cl = pd.Categorical(df.cl, ordered=True, categories=labels)\n",
        "df.plot(column='cl', figsize=(10, 10), cmap='OrRd', legend=True);"
      ],
      "metadata": {
        "id": "O27iisvbBso1"
      },
      "execution_count": null,
      "outputs": []
    },
    {
      "cell_type": "markdown",
      "source": [
        "# Tarefa 1:\n",
        "\n",
        "Eu escolhi unir os estados da região Sudeste. Para a mesma variável utilizada por mim:\n",
        "\n",
        "- escolha estados de outra região do Brasil\n",
        "- obter o mapa temático por quantis\n",
        "- obter o mapa temático definido pelo usuário, da forma que for mais adequada para a região escolhida por você (escolha quantos intervalos quiser e faça os ajustes necessários nos valores)"
      ],
      "metadata": {
        "id": "0Ev27oHRBA6l"
      }
    },
    {
      "cell_type": "code",
      "source": [
        ""
      ],
      "metadata": {
        "id": "AUn8C-u6DOXX"
      },
      "execution_count": null,
      "outputs": []
    },
    {
      "cell_type": "markdown",
      "metadata": {
        "id": "YgTxlIjGy_t_"
      },
      "source": [
        "# Diferentes níveis de agregação:\n",
        "\n",
        "Dividir em microrregiões do Brasil"
      ]
    },
    {
      "cell_type": "code",
      "source": [
        "# usando a função buffer\n",
        "br['geometry'] = br.geometry.buffer(0)"
      ],
      "metadata": {
        "id": "Y5DrkhIXTxtN"
      },
      "execution_count": null,
      "outputs": []
    },
    {
      "cell_type": "code",
      "execution_count": null,
      "metadata": {
        "id": "TH1vNEl0g30a"
      },
      "outputs": [],
      "source": [
        "# agrupar municípios em microrregiões\n",
        "# somando os valores da variável para os municípios contidos em cada microrregião\n",
        "micros = br.dissolve(by=['micro', 'nome_micro', 'nome_uf'], aggfunc='sum')\n",
        "micros.head(3)"
      ]
    },
    {
      "cell_type": "code",
      "source": [
        "micros.shape"
      ],
      "metadata": {
        "id": "HnCvf6u_EnH3"
      },
      "execution_count": null,
      "outputs": []
    },
    {
      "cell_type": "code",
      "execution_count": null,
      "metadata": {
        "id": "PRaAkQe7g31B"
      },
      "outputs": [],
      "source": [
        "# reiniciar índices e retirar as colunas que não serão usadas\n",
        "micros = micros.reset_index()\n",
        "retirar = ['mun', 'uf', 'meso', 'cod_rgi', 'cod_rgint', 'codmun6', 'regiao', 'area']\n",
        "micros = micros.drop(retirar, axis=1)\n",
        "micros.head(3)"
      ]
    },
    {
      "cell_type": "code",
      "source": [
        "micros = micros.to_crs(epsg=3395)"
      ],
      "metadata": {
        "id": "K_GZa1qLTcyl"
      },
      "execution_count": null,
      "outputs": []
    },
    {
      "cell_type": "code",
      "execution_count": null,
      "metadata": {
        "id": "Ze_0xvftg31M"
      },
      "outputs": [],
      "source": [
        "# resumo estatístico\n",
        "micros[variavel].describe()"
      ]
    },
    {
      "cell_type": "code",
      "execution_count": null,
      "metadata": {
        "id": "A9rgXAyeg31T"
      },
      "outputs": [],
      "source": [
        "micros[variavel].hist();"
      ]
    },
    {
      "cell_type": "code",
      "execution_count": null,
      "metadata": {
        "id": "P517C5aTg31b"
      },
      "outputs": [],
      "source": [
        "# boxplot\n",
        "sns.boxplot(micros[variavel], orient='v');"
      ]
    },
    {
      "cell_type": "code",
      "execution_count": null,
      "metadata": {
        "id": "Yw22ShkNg31g"
      },
      "outputs": [],
      "source": [
        "# visualizar as microrregiões em ordem decrescente (ou crescente)\n",
        "micros.sort_values(variavel, ascending=False)[['nome_micro', 'nome_uf', variavel]].head(10)"
      ]
    },
    {
      "cell_type": "code",
      "execution_count": null,
      "metadata": {
        "id": "R7yHe3ikg31n"
      },
      "outputs": [],
      "source": [
        "# mapa simples\n",
        "micros.plot();"
      ]
    },
    {
      "cell_type": "code",
      "execution_count": null,
      "metadata": {
        "id": "pEXFhiabg31s"
      },
      "outputs": [],
      "source": [
        "# mapa temático - quantiles\n",
        "micros.plot(column=variavel, figsize=(10, 10), scheme='Quantiles', cmap='OrRd', legend=True, k=4);"
      ]
    },
    {
      "cell_type": "code",
      "execution_count": null,
      "metadata": {
        "id": "bbSr3BuRg31z"
      },
      "outputs": [],
      "source": [
        "# mapa temático - equal_interval\n",
        "micros.plot(column=variavel, figsize=(10, 10), scheme='Equal_Interval', cmap='OrRd', legend=True, k=4);"
      ]
    },
    {
      "cell_type": "code",
      "execution_count": null,
      "metadata": {
        "id": "qM1ULzOw6yhj"
      },
      "outputs": [],
      "source": [
        "# mapa temático - fisher_jenks\n",
        "micros.plot(column=variavel, figsize=(10, 10), scheme='fisher_jenks', cmap='OrRd', legend=True, k=4);"
      ]
    },
    {
      "cell_type": "code",
      "execution_count": null,
      "metadata": {
        "id": "53C747rvg314"
      },
      "outputs": [],
      "source": [
        "# obter matriz de vizinhança no formato queen\n",
        "w = Queen.from_dataframe(micros)\n",
        "w.transform = 'r'\n",
        "# calcular I de Moran global para a variável escolhida\n",
        "y = micros[variavel].values\n",
        "moran = Moran(y, w)\n",
        "moran.I"
      ]
    },
    {
      "cell_type": "code",
      "execution_count": null,
      "metadata": {
        "id": "SkLeZXuTg32D"
      },
      "outputs": [],
      "source": [
        "# valor-p\n",
        "moran.p_sim"
      ]
    },
    {
      "cell_type": "code",
      "execution_count": null,
      "metadata": {
        "id": "eyv9Nq3Gg32R"
      },
      "outputs": [],
      "source": [
        "# mapa LISA\n",
        "moran_loc = Moran_Local(y, w)\n",
        "lisa_cluster(moran_loc, micros, p=0.05, figsize = (9,9));"
      ]
    },
    {
      "cell_type": "code",
      "source": [
        "# mapa LISA com nomes dos significativos\n",
        "fig, ax = plt.subplots(1, figsize=(20, 20))\n",
        "lisa_cluster(moran_loc, micros, p=0.05, ax=ax, figsize = (9,9));\n",
        "sig = moran_loc.p_sim < 0.05  \n",
        "posicoes = np.where(sig)\n",
        "escolhidos = micros.iloc[posicoes[0]]\n",
        "for j in escolhidos.index:\n",
        "    ax.text(escolhidos.geometry.centroid[j].coords[0][0], escolhidos.geometry.centroid[j].coords[0][1], \n",
        "         escolhidos.nome_micro[j],\n",
        "         fontsize=10, horizontalalignment='center', verticalalignment='bottom')"
      ],
      "metadata": {
        "id": "ggef7SvFYB4r"
      },
      "execution_count": null,
      "outputs": []
    },
    {
      "cell_type": "markdown",
      "metadata": {
        "id": "BCDOsAi07tnz"
      },
      "source": [
        "# Tarefa 2\n",
        "\n",
        "Eu utilizei o nível de agregação microrregiões para os dados do Brasil. Usando a mesma variável já utilizada, escolha outro nível de agregação (mesorregiões, regiões imediatas, regiões intermediárias ou mesmo estados) e faça a análise completa:\n",
        "\n",
        "- obtenha o mapa temático que você achar mais adequado (quantis, intervalos iguais, fisher-jenks ou definido por você) e ANALISE (apontando como estão distribuídos os valores no território brasileiro)\n",
        "- obtenha o valor do *I* de Moran e valor-*p* e ANALISE (o valor do *I* é significativo? O que isso quer dizer? Qual a interpretação prática para a variável em questão?) \n",
        "- obtenha o mapa LISA com os nomes das observações significativas e ANALISE (apontando quais foram os *clusters* espaciais, *outliers* espaciais)\n",
        "\n"
      ]
    },
    {
      "cell_type": "code",
      "source": [
        ""
      ],
      "metadata": {
        "id": "F9TPJKhIGraX"
      },
      "execution_count": null,
      "outputs": []
    },
    {
      "cell_type": "markdown",
      "source": [
        "# Tarefa 3\n",
        "\n",
        "Compare suas conclusões obtidas na tarefa 2 (com o nível de agregação escolhido por você) com o que foi obtido por mim para as microrregiões:\n",
        "\n",
        "- há semelhanças?\n",
        "- há diferenças?\n",
        "- aponte o que notou de interessante ao comparar os dois níveis de agragação (microrregiões *versus* nível escolhido por você)"
      ],
      "metadata": {
        "id": "1ccU6IEZGsA2"
      }
    },
    {
      "cell_type": "markdown",
      "source": [
        "Digite aqui sua análise da tarefa 3.\n",
        "\n",
        "\n"
      ],
      "metadata": {
        "id": "FX_smxsWHOY4"
      }
    }
  ],
  "metadata": {
    "colab": {
      "collapsed_sections": [],
      "name": "Sidra_RN_PT.ipynb",
      "provenance": [],
      "include_colab_link": true
    },
    "kernelspec": {
      "display_name": "Python 3",
      "language": "python",
      "name": "python3"
    },
    "language_info": {
      "codemirror_mode": {
        "name": "ipython",
        "version": 3
      },
      "file_extension": ".py",
      "mimetype": "text/x-python",
      "name": "python",
      "nbconvert_exporter": "python",
      "pygments_lexer": "ipython3",
      "version": "3.7.2"
    }
  },
  "nbformat": 4,
  "nbformat_minor": 0
}