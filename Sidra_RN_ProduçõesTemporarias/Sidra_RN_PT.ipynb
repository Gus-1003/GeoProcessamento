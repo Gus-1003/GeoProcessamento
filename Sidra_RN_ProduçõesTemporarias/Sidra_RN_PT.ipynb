{
  "cells": [
    {
      "cell_type": "markdown",
      "metadata": {
        "id": "view-in-github",
        "colab_type": "text"
      },
      "source": [
        "<a href=\"https://colab.research.google.com/github/Gus-1003/GeoProcessamento_Estudos_Dados/blob/main/Sidra_RN_Produ%C3%A7%C3%B5esTemporarias/Sidra_RN_PT.ipynb\" target=\"_parent\"><img src=\"https://colab.research.google.com/assets/colab-badge.svg\" alt=\"Open In Colab\"/></a>"
      ]
    },
    {
      "cell_type": "markdown",
      "metadata": {
        "id": "wud8Jwda1m5z"
      },
      "source": [
        "# Produção de Culturas temporarias no Rio Grande do Norte - UFRN"
      ]
    },
    {
      "cell_type": "markdown",
      "source": [
        "- análise de uma culturas agrícolas (dados de 2020)"
      ],
      "metadata": {
        "id": "Mm3hd-2Mgywy"
      }
    },
    {
      "cell_type": "code",
      "execution_count": null,
      "metadata": {
        "id": "ub1LAdZM13tQ"
      },
      "outputs": [],
      "source": [
        "!pip install geopandas shapely mapclassify libpysal splot esda pysal\n",
        "!pip install --upgrade pyshp\n",
        "!pip install --upgrade descartes"
      ]
    },
    {
      "cell_type": "markdown",
      "source": [
        "## Leitura de Pacotes e bibliotecas\n"
      ],
      "metadata": {
        "id": "nHrSIkiMg9q7"
      }
    },
    {
      "cell_type": "code",
      "execution_count": null,
      "metadata": {
        "id": "Xze0XLiQDFyd"
      },
      "outputs": [],
      "source": [
        "import pandas as pd\n",
        "import numpy as np\n",
        "from scipy import stats\n",
        "import statsmodels.formula.api as sm\n",
        "\n",
        "# para gráficos\n",
        "%matplotlib inline\n",
        "import matplotlib.pyplot as plt\n",
        "import seaborn as sns\n",
        "\n",
        "\n",
        "import shapefile\n",
        "\n",
        "# para a análise de dados espaciais\n",
        "import geopandas as gp\n",
        "import pysal as ps\n",
        "import splot\n",
        "import mapclassify as mc\n",
        "from libpysal.weights import Queen\n",
        "from libpysal import weights\n",
        "from esda import Moran, Moran_Local, G_Local\n",
        "from splot.esda import plot_moran, moran_scatterplot, lisa_cluster, plot_local_autocorrelation"
      ]
    },
    {
      "cell_type": "markdown",
      "metadata": {
        "id": "wHRualwfaHTp"
      },
      "source": [
        "## Leitura de arquivos no Drive:"
      ]
    },
    {
      "cell_type": "code",
      "source": [
        "from google.colab import drive\n",
        "drive.mount('/content/drive/')\n",
        "%cd /content/drive/MyDrive/\n",
        "\n",
        "geojson_data = shapefile.Reader(shp=\"/content/drive/MyDrive/RN_Municipios_2021.shp\", dbf=\"https://drive.google.com/file/d/1FMx-Tvq3VBrO2fGP4fwOEwrKaiAN2yG-/view?usp=sharing\")"
      ],
      "metadata": {
        "id": "tbiuGhMnYvac",
        "outputId": "875c1154-bc8b-4326-9641-1e4170579da9",
        "colab": {
          "base_uri": "https://localhost:8080/"
        }
      },
      "execution_count": null,
      "outputs": [
        {
          "output_type": "stream",
          "name": "stdout",
          "text": [
            "Drive already mounted at /content/drive/; to attempt to forcibly remount, call drive.mount(\"/content/drive/\", force_remount=True).\n",
            "/content/drive/MyDrive\n"
          ]
        }
      ]
    },
    {
      "cell_type": "code",
      "source": [
        "type(geojson_data)"
      ],
      "metadata": {
        "id": "GBRd7FeEas5b",
        "outputId": "03b71131-7e31-462f-eccc-2a86858c5494",
        "colab": {
          "base_uri": "https://localhost:8080/"
        }
      },
      "execution_count": null,
      "outputs": [
        {
          "output_type": "execute_result",
          "data": {
            "text/plain": [
              "shapefile.Reader"
            ]
          },
          "metadata": {},
          "execution_count": 37
        }
      ]
    },
    {
      "cell_type": "code",
      "source": [
        "gp.GeoDataFrame.from_features(shp=\"/content/drive/MyDrive/RN_Municipios_2021.shp\")"
      ],
      "metadata": {
        "id": "jI5TmlPTeAbP",
        "outputId": "9b512786-e636-4cb8-f33a-94a993aa6533",
        "colab": {
          "base_uri": "https://localhost:8080/",
          "height": 165
        }
      },
      "execution_count": null,
      "outputs": [
        {
          "output_type": "error",
          "ename": "AttributeError",
          "evalue": "ignored",
          "traceback": [
            "\u001b[0;31m---------------------------------------------------------------------------\u001b[0m",
            "\u001b[0;31mAttributeError\u001b[0m                            Traceback (most recent call last)",
            "\u001b[0;32m<ipython-input-32-5e2add0619b2>\u001b[0m in \u001b[0;36m<module>\u001b[0;34m()\u001b[0m\n\u001b[0;32m----> 1\u001b[0;31m \u001b[0mgp\u001b[0m\u001b[0;34m.\u001b[0m\u001b[0mGeoDataFrame\u001b[0m\u001b[0;34m.\u001b[0m\u001b[0mfrom_features\u001b[0m\u001b[0;34m(\u001b[0m\u001b[0mgeojson_data\u001b[0m\u001b[0;34m.\u001b[0m\u001b[0mjson\u001b[0m\u001b[0;34m(\u001b[0m\u001b[0;34m)\u001b[0m\u001b[0;34m)\u001b[0m\u001b[0;34m\u001b[0m\u001b[0;34m\u001b[0m\u001b[0m\n\u001b[0m",
            "\u001b[0;31mAttributeError\u001b[0m: 'Reader' object has no attribute 'json'"
          ]
        }
      ]
    },
    {
      "cell_type": "code",
      "source": [
        "# ler dados de interesse\n",
        "dados = pd.read_csv('https://raw.githubusercontent.com/Gus-1003/GeoProcessamento_Estudos_Dados/main/Sidra_RN_Produ%C3%A7%C3%B5esTemporarias/Base_Principal.csv', delimiter=\";\", quotechar='\"')"
      ],
      "metadata": {
        "id": "y5loF-oMbL84"
      },
      "execution_count": null,
      "outputs": []
    },
    {
      "cell_type": "code",
      "execution_count": null,
      "metadata": {
        "id": "DfSUvAJBPUlS",
        "outputId": "b74ef70b-692b-471e-eb97-2b3db4353faf",
        "colab": {
          "base_uri": "https://localhost:8080/",
          "height": 380
        }
      },
      "outputs": [
        {
          "output_type": "error",
          "ename": "AttributeError",
          "evalue": "ignored",
          "traceback": [
            "\u001b[0;31m---------------------------------------------------------------------------\u001b[0m",
            "\u001b[0;31mAttributeError\u001b[0m                            Traceback (most recent call last)",
            "\u001b[0;32m<ipython-input-17-d719bd0db421>\u001b[0m in \u001b[0;36m<module>\u001b[0;34m()\u001b[0m\n\u001b[1;32m      1\u001b[0m \u001b[0;31m# ler dados de interesse\u001b[0m\u001b[0;34m\u001b[0m\u001b[0;34m\u001b[0m\u001b[0;34m\u001b[0m\u001b[0m\n\u001b[0;32m----> 2\u001b[0;31m \u001b[0mgeodf\u001b[0m \u001b[0;34m=\u001b[0m \u001b[0mgp\u001b[0m\u001b[0;34m.\u001b[0m\u001b[0mread_file\u001b[0m\u001b[0;34m(\u001b[0m\u001b[0mgeojson_data\u001b[0m\u001b[0;34m)\u001b[0m   \u001b[0;31m# ler shapefile\u001b[0m\u001b[0;34m\u001b[0m\u001b[0;34m\u001b[0m\u001b[0m\n\u001b[0m\u001b[1;32m      3\u001b[0m \u001b[0;34m\u001b[0m\u001b[0m\n\u001b[1;32m      4\u001b[0m \u001b[0;31m# mesclar shapefile com dataframe usando a coluna mun\u001b[0m\u001b[0;34m\u001b[0m\u001b[0;34m\u001b[0m\u001b[0;34m\u001b[0m\u001b[0m\n\u001b[1;32m      5\u001b[0m \u001b[0mgeodf\u001b[0m\u001b[0;34m.\u001b[0m\u001b[0mrename\u001b[0m\u001b[0;34m(\u001b[0m\u001b[0mcolumns\u001b[0m\u001b[0;34m=\u001b[0m\u001b[0;34m{\u001b[0m\u001b[0;34m'Cód:'\u001b[0m\u001b[0;34m:\u001b[0m \u001b[0;34m'mun'\u001b[0m\u001b[0;34m}\u001b[0m\u001b[0;34m,\u001b[0m \u001b[0minplace\u001b[0m\u001b[0;34m=\u001b[0m\u001b[0;32mTrue\u001b[0m\u001b[0;34m)\u001b[0m  \u001b[0;31m# mudar nome da coluna com cód. para 'mun'\u001b[0m\u001b[0;34m\u001b[0m\u001b[0;34m\u001b[0m\u001b[0m\n",
            "\u001b[0;32m/usr/local/lib/python3.7/dist-packages/geopandas/io/file.py\u001b[0m in \u001b[0;36m_read_file\u001b[0;34m(filename, bbox, mask, rows, **kwargs)\u001b[0m\n\u001b[1;32m    199\u001b[0m \u001b[0;34m\u001b[0m\u001b[0m\n\u001b[1;32m    200\u001b[0m     \u001b[0;32mwith\u001b[0m \u001b[0mfiona_env\u001b[0m\u001b[0;34m(\u001b[0m\u001b[0;34m)\u001b[0m\u001b[0;34m:\u001b[0m\u001b[0;34m\u001b[0m\u001b[0;34m\u001b[0m\u001b[0m\n\u001b[0;32m--> 201\u001b[0;31m         \u001b[0;32mwith\u001b[0m \u001b[0mreader\u001b[0m\u001b[0;34m(\u001b[0m\u001b[0mpath_or_bytes\u001b[0m\u001b[0;34m,\u001b[0m \u001b[0;34m**\u001b[0m\u001b[0mkwargs\u001b[0m\u001b[0;34m)\u001b[0m \u001b[0;32mas\u001b[0m \u001b[0mfeatures\u001b[0m\u001b[0;34m:\u001b[0m\u001b[0;34m\u001b[0m\u001b[0;34m\u001b[0m\u001b[0m\n\u001b[0m\u001b[1;32m    202\u001b[0m \u001b[0;34m\u001b[0m\u001b[0m\n\u001b[1;32m    203\u001b[0m             \u001b[0;31m# In a future Fiona release the crs attribute of features will\u001b[0m\u001b[0;34m\u001b[0m\u001b[0;34m\u001b[0m\u001b[0;34m\u001b[0m\u001b[0m\n",
            "\u001b[0;32m/usr/local/lib/python3.7/dist-packages/fiona/env.py\u001b[0m in \u001b[0;36mwrapper\u001b[0;34m(*args, **kwargs)\u001b[0m\n\u001b[1;32m    406\u001b[0m     \u001b[0;32mdef\u001b[0m \u001b[0mwrapper\u001b[0m\u001b[0;34m(\u001b[0m\u001b[0;34m*\u001b[0m\u001b[0margs\u001b[0m\u001b[0;34m,\u001b[0m \u001b[0;34m**\u001b[0m\u001b[0mkwargs\u001b[0m\u001b[0;34m)\u001b[0m\u001b[0;34m:\u001b[0m\u001b[0;34m\u001b[0m\u001b[0;34m\u001b[0m\u001b[0m\n\u001b[1;32m    407\u001b[0m         \u001b[0;32mif\u001b[0m \u001b[0mlocal\u001b[0m\u001b[0;34m.\u001b[0m\u001b[0m_env\u001b[0m\u001b[0;34m:\u001b[0m\u001b[0;34m\u001b[0m\u001b[0;34m\u001b[0m\u001b[0m\n\u001b[0;32m--> 408\u001b[0;31m             \u001b[0;32mreturn\u001b[0m \u001b[0mf\u001b[0m\u001b[0;34m(\u001b[0m\u001b[0;34m*\u001b[0m\u001b[0margs\u001b[0m\u001b[0;34m,\u001b[0m \u001b[0;34m**\u001b[0m\u001b[0mkwargs\u001b[0m\u001b[0;34m)\u001b[0m\u001b[0;34m\u001b[0m\u001b[0;34m\u001b[0m\u001b[0m\n\u001b[0m\u001b[1;32m    409\u001b[0m         \u001b[0;32melse\u001b[0m\u001b[0;34m:\u001b[0m\u001b[0;34m\u001b[0m\u001b[0;34m\u001b[0m\u001b[0m\n\u001b[1;32m    410\u001b[0m             \u001b[0;32mif\u001b[0m \u001b[0misinstance\u001b[0m\u001b[0;34m(\u001b[0m\u001b[0margs\u001b[0m\u001b[0;34m[\u001b[0m\u001b[0;36m0\u001b[0m\u001b[0;34m]\u001b[0m\u001b[0;34m,\u001b[0m \u001b[0mstr\u001b[0m\u001b[0;34m)\u001b[0m\u001b[0;34m:\u001b[0m\u001b[0;34m\u001b[0m\u001b[0;34m\u001b[0m\u001b[0m\n",
            "\u001b[0;32m/usr/local/lib/python3.7/dist-packages/fiona/__init__.py\u001b[0m in \u001b[0;36mopen\u001b[0;34m(fp, mode, driver, schema, crs, encoding, layer, vfs, enabled_drivers, crs_wkt, **kwargs)\u001b[0m\n\u001b[1;32m    259\u001b[0m             \u001b[0mpath\u001b[0m \u001b[0;34m=\u001b[0m \u001b[0mParsedPath\u001b[0m\u001b[0;34m(\u001b[0m\u001b[0mpath\u001b[0m\u001b[0;34m,\u001b[0m \u001b[0marchive\u001b[0m\u001b[0;34m,\u001b[0m \u001b[0mscheme\u001b[0m\u001b[0;34m)\u001b[0m\u001b[0;34m\u001b[0m\u001b[0;34m\u001b[0m\u001b[0m\n\u001b[1;32m    260\u001b[0m         \u001b[0;32melse\u001b[0m\u001b[0;34m:\u001b[0m\u001b[0;34m\u001b[0m\u001b[0;34m\u001b[0m\u001b[0m\n\u001b[0;32m--> 261\u001b[0;31m             \u001b[0mpath\u001b[0m \u001b[0;34m=\u001b[0m \u001b[0mparse_path\u001b[0m\u001b[0;34m(\u001b[0m\u001b[0mfp\u001b[0m\u001b[0;34m)\u001b[0m\u001b[0;34m\u001b[0m\u001b[0;34m\u001b[0m\u001b[0m\n\u001b[0m\u001b[1;32m    262\u001b[0m \u001b[0;34m\u001b[0m\u001b[0m\n\u001b[1;32m    263\u001b[0m         \u001b[0;32mif\u001b[0m \u001b[0mmode\u001b[0m \u001b[0;32min\u001b[0m \u001b[0;34m(\u001b[0m\u001b[0;34m'a'\u001b[0m\u001b[0;34m,\u001b[0m \u001b[0;34m'r'\u001b[0m\u001b[0;34m)\u001b[0m\u001b[0;34m:\u001b[0m\u001b[0;34m\u001b[0m\u001b[0;34m\u001b[0m\u001b[0m\n",
            "\u001b[0;32m/usr/local/lib/python3.7/dist-packages/fiona/path.py\u001b[0m in \u001b[0;36mparse_path\u001b[0;34m(path)\u001b[0m\n\u001b[1;32m    130\u001b[0m         \u001b[0;32mreturn\u001b[0m \u001b[0mUnparsedPath\u001b[0m\u001b[0;34m(\u001b[0m\u001b[0mpath\u001b[0m\u001b[0;34m)\u001b[0m\u001b[0;34m\u001b[0m\u001b[0;34m\u001b[0m\u001b[0m\n\u001b[1;32m    131\u001b[0m \u001b[0;34m\u001b[0m\u001b[0m\n\u001b[0;32m--> 132\u001b[0;31m     \u001b[0;32melif\u001b[0m \u001b[0mpath\u001b[0m\u001b[0;34m.\u001b[0m\u001b[0mstartswith\u001b[0m\u001b[0;34m(\u001b[0m\u001b[0;34m'/vsi'\u001b[0m\u001b[0;34m)\u001b[0m\u001b[0;34m:\u001b[0m\u001b[0;34m\u001b[0m\u001b[0;34m\u001b[0m\u001b[0m\n\u001b[0m\u001b[1;32m    133\u001b[0m         \u001b[0;32mreturn\u001b[0m \u001b[0mUnparsedPath\u001b[0m\u001b[0;34m(\u001b[0m\u001b[0mpath\u001b[0m\u001b[0;34m)\u001b[0m\u001b[0;34m\u001b[0m\u001b[0;34m\u001b[0m\u001b[0m\n\u001b[1;32m    134\u001b[0m \u001b[0;34m\u001b[0m\u001b[0m\n",
            "\u001b[0;31mAttributeError\u001b[0m: 'Reader' object has no attribute 'startswith'"
          ]
        }
      ],
      "source": [
        "# ler dados de interesse\n",
        "geodf = gp.read_file(geojson_data)   # ler shapefile\n",
        "\n",
        "# mesclar shapefile com dataframe usando a coluna mun\n",
        "geodf.rename(columns={'Cód:': 'mun'}, inplace=True)  # mudar nome da coluna com cód. para 'mun'\n",
        "geodf['mun'] = geodf.mun.astype(int)  # transformar códigos em inteiros\n",
        "br = pd.merge(geodf, dados, on='mun', suffixes=('', '_y'))  # mesclar o dataframe e o shapefile em um objeto\n",
        "br = br.loc[:, br.columns != 'NM_MUNICIP']  # tirar a coluna NM_MUNICIP"
      ]
    },
    {
      "cell_type": "code",
      "source": [
        "br.head()"
      ],
      "metadata": {
        "id": "5tBqDLfCRaMj"
      },
      "execution_count": null,
      "outputs": []
    },
    {
      "cell_type": "code",
      "source": [
        "br.columns"
      ],
      "metadata": {
        "id": "WUNjWheQMlGs"
      },
      "execution_count": null,
      "outputs": []
    },
    {
      "cell_type": "code",
      "execution_count": null,
      "metadata": {
        "id": "XrjPYCE6PUmO"
      },
      "outputs": [],
      "source": [
        "variavel = 'milho'      # escolher a variável e colocar entre aspas"
      ]
    },
    {
      "cell_type": "code",
      "execution_count": null,
      "metadata": {
        "id": "9NLtH2C6V4MF"
      },
      "outputs": [],
      "source": [
        "# resumo estatístico\n",
        "br[variavel].describe()"
      ]
    },
    {
      "cell_type": "code",
      "execution_count": null,
      "metadata": {
        "id": "F9mMZHxeWVkw"
      },
      "outputs": [],
      "source": [
        "# histograma\n",
        "br[variavel].hist();"
      ]
    },
    {
      "cell_type": "code",
      "execution_count": null,
      "metadata": {
        "id": "R7oifRXwXtu2"
      },
      "outputs": [],
      "source": [
        "# boxplot\n",
        "sns.boxplot(br[variavel], orient='v');"
      ]
    },
    {
      "cell_type": "code",
      "execution_count": null,
      "metadata": {
        "id": "1DTyJTtaWRA3"
      },
      "outputs": [],
      "source": [
        "# visualizar os municípios em ordem decrescente (ou crescente)\n",
        "br.sort_values(variavel, ascending=False)[['nome_mun', 'nome_uf', 'nome_meso', variavel]].head(10)"
      ]
    },
    {
      "cell_type": "code",
      "execution_count": null,
      "metadata": {
        "id": "pOqTBLrpPUm0"
      },
      "outputs": [],
      "source": [
        "# mapa temático - simples\n",
        "br.plot(variavel, legend=True);"
      ]
    },
    {
      "cell_type": "code",
      "execution_count": null,
      "metadata": {
        "id": "3CwxoSK4PUnE"
      },
      "outputs": [],
      "source": [
        "# mapa temático - quantiles\n",
        "br.plot(column=variavel, figsize=(10, 10), scheme='Quantiles', cmap='OrRd', legend=True, k=4);"
      ]
    },
    {
      "cell_type": "code",
      "execution_count": null,
      "metadata": {
        "id": "E69kzf3fPUno"
      },
      "outputs": [],
      "source": [
        "# mapa temático - equal_interval\n",
        "br.plot(column=variavel, figsize=(10, 10), scheme='Equal_Interval', cmap='OrRd', legend=True, k=4);"
      ]
    },
    {
      "cell_type": "code",
      "execution_count": null,
      "metadata": {
        "id": "6z-6UP5bqZU2"
      },
      "outputs": [],
      "source": [
        "# intervalos de valores definidos pelo usuário\n",
        "referencia = [10000, 500000, 1000000, 4000000]     # valores de referência considera 'abaixo que'\n",
        "labels = ['a: 0 - 10 mil', 'b: 10 mil - 500 mil', 'c: 500 mil - 1 milhão', 'd: 1 milhão - 4 milhões']  # letras por causa de ordenação alfabética\n",
        "valores = br[variavel]\n",
        "quantis = mc.UserDefined(valores, referencia)\n",
        "cl = [labels[i] for i in quantis.yb]\n",
        "df = br.assign(cl=cl)\n",
        "df.cl = pd.Categorical(df.cl, ordered=True, categories=labels)\n",
        "df.plot(column='cl', figsize=(10, 10), cmap='OrRd', legend=True);"
      ]
    },
    {
      "cell_type": "code",
      "execution_count": null,
      "metadata": {
        "id": "AmjNWyeEPUn-"
      },
      "outputs": [],
      "source": [
        "# obter matriz de vizinhança no formato queen\n",
        "w = Queen.from_dataframe(br)\n",
        "w.transform = 'r'\n",
        "# calcular I de Moran global para a variável escolhida\n",
        "y = br[variavel].values\n",
        "moran = Moran(y, w)\n",
        "moran.I"
      ]
    },
    {
      "cell_type": "code",
      "source": [
        "br.shape"
      ],
      "metadata": {
        "id": "Fmk_lmp6E5Bi"
      },
      "execution_count": null,
      "outputs": []
    },
    {
      "cell_type": "code",
      "source": [
        "# ilhas\n",
        "br.query('index == 1523 or index == 3493')"
      ],
      "metadata": {
        "id": "QrOSffoLEZ6y"
      },
      "execution_count": null,
      "outputs": []
    },
    {
      "cell_type": "code",
      "source": [
        "# retirar ilhas\n",
        "br = br.drop([1523, 3493]) # retira F. Noronha e Ilhabela"
      ],
      "metadata": {
        "id": "SRAfgeS8Esab"
      },
      "execution_count": null,
      "outputs": []
    },
    {
      "cell_type": "markdown",
      "source": [
        "O sistema de referência WGS84 (*World Geodetic System*, 1984) é bastante utilizado em sistemas GPS e aplicativos da Google, por exemplo). A Google utiliza informações espaciais que são armazenadas como WGS84 e projetadas para WGS84 (EPSG: 4326) para o Google Earth e Pseudo Mercator (EPSG: 3857) para o Google Maps.\n",
        "\n",
        "Fonte: https://geopandas.org/en/stable/docs/user_guide/projections.html\n",
        "\n"
      ],
      "metadata": {
        "id": "srSIgDvmKSTD"
      }
    },
    {
      "cell_type": "code",
      "source": [
        "# ajustando o sistema de referência de coordenadas\n",
        "br = br.to_crs(epsg=3395)\n",
        "br.shape"
      ],
      "metadata": {
        "id": "KKFHrxdjE0f1"
      },
      "execution_count": null,
      "outputs": []
    },
    {
      "cell_type": "code",
      "source": [
        "# obter matriz de vizinhança no formato queen\n",
        "w = Queen.from_dataframe(br)\n",
        "w.transform = 'r'\n",
        "# calcular I de Moran global para a variável escolhida\n",
        "y = br[variavel].values\n",
        "moran = Moran(y, w)\n",
        "moran.I"
      ],
      "metadata": {
        "id": "PdHsD4eFFLRR"
      },
      "execution_count": null,
      "outputs": []
    },
    {
      "cell_type": "code",
      "execution_count": null,
      "metadata": {
        "id": "3j98Tsc7PUoD"
      },
      "outputs": [],
      "source": [
        "# valor-p   nível de significância: 0,05\n",
        "moran.p_sim"
      ]
    },
    {
      "cell_type": "code",
      "execution_count": null,
      "metadata": {
        "id": "VtEjLF91PUoN"
      },
      "outputs": [],
      "source": [
        "# só o diagrama de dispersão\n",
        "moran_loc = Moran_Local(y, w)\n",
        "moran_scatterplot(moran_loc, p=0.05);"
      ]
    },
    {
      "cell_type": "code",
      "execution_count": null,
      "metadata": {
        "id": "r09Q8KvlPUoS"
      },
      "outputs": [],
      "source": [
        "# mapa LISA\n",
        "lisa_cluster(moran_loc, br, p=0.05, figsize = (9,9));"
      ]
    },
    {
      "cell_type": "markdown",
      "metadata": {
        "id": "WJoHlFnL_rVL"
      },
      "source": [
        "# Escolher partes do Brasil:\n",
        "\n",
        "Unir estados para formar as regiões do Brasil."
      ]
    },
    {
      "cell_type": "code",
      "execution_count": null,
      "metadata": {
        "id": "KvgWxRti_yb_"
      },
      "outputs": [],
      "source": [
        "br.nome_uf.unique()"
      ]
    },
    {
      "cell_type": "code",
      "execution_count": null,
      "metadata": {
        "id": "ecDcHUtP_v6L"
      },
      "outputs": [],
      "source": [
        "SE = br.query('nome_uf == [\"Minas Gerais\", \"São Paulo\", \"Rio de Janeiro\", \"Espírito Santo\"]')"
      ]
    },
    {
      "cell_type": "code",
      "source": [
        "SE.shape"
      ],
      "metadata": {
        "id": "b6rINIBYPrGP"
      },
      "execution_count": null,
      "outputs": []
    },
    {
      "cell_type": "code",
      "source": [
        "SE.plot();"
      ],
      "metadata": {
        "id": "n58MaL9CIUZO"
      },
      "execution_count": null,
      "outputs": []
    },
    {
      "cell_type": "code",
      "execution_count": null,
      "metadata": {
        "id": "wvAfTZuOANam"
      },
      "outputs": [],
      "source": [
        "# mapa temático - quantiles\n",
        "SE.plot(column=variavel, figsize=(10, 10), scheme='Quantiles', cmap='OrRd', legend=True, k=4);"
      ]
    },
    {
      "cell_type": "code",
      "source": [
        "# resumo estatístico - para auxiliar na construção dos intervalos\n",
        "SE[variavel].describe()"
      ],
      "metadata": {
        "id": "_g_yrcSMCqwC"
      },
      "execution_count": null,
      "outputs": []
    },
    {
      "cell_type": "code",
      "source": [
        "# intervalos de valores definidos pelo usuário\n",
        "referencia = [100, 7000, 3480000]     # valores de referência considera 'abaixo que'\n",
        "labels = ['a: 0 - 100', 'b: 100 - 7 mil', 'c: 7 mil - 348 mil']  # letras por causa de ordenação alfabética\n",
        "valores = SE[variavel]\n",
        "quantis = mc.UserDefined(valores, referencia)\n",
        "cl = [labels[i] for i in quantis.yb]\n",
        "df = SE.assign(cl=cl)\n",
        "df.cl = pd.Categorical(df.cl, ordered=True, categories=labels)\n",
        "df.plot(column='cl', figsize=(10, 10), cmap='OrRd', legend=True);"
      ],
      "metadata": {
        "id": "O27iisvbBso1"
      },
      "execution_count": null,
      "outputs": []
    },
    {
      "cell_type": "markdown",
      "source": [
        "# Tarefa 1:\n",
        "\n",
        "Eu escolhi unir os estados da região Sudeste. Para a mesma variável utilizada por mim:\n",
        "\n",
        "- escolha estados de outra região do Brasil\n",
        "- obter o mapa temático por quantis\n",
        "- obter o mapa temático definido pelo usuário, da forma que for mais adequada para a região escolhida por você (escolha quantos intervalos quiser e faça os ajustes necessários nos valores)"
      ],
      "metadata": {
        "id": "0Ev27oHRBA6l"
      }
    },
    {
      "cell_type": "code",
      "source": [
        ""
      ],
      "metadata": {
        "id": "AUn8C-u6DOXX"
      },
      "execution_count": null,
      "outputs": []
    },
    {
      "cell_type": "markdown",
      "metadata": {
        "id": "YgTxlIjGy_t_"
      },
      "source": [
        "# Diferentes níveis de agregação:\n",
        "\n",
        "Dividir em microrregiões do Brasil"
      ]
    },
    {
      "cell_type": "code",
      "source": [
        "# usando a função buffer\n",
        "br['geometry'] = br.geometry.buffer(0)"
      ],
      "metadata": {
        "id": "Y5DrkhIXTxtN"
      },
      "execution_count": null,
      "outputs": []
    },
    {
      "cell_type": "code",
      "execution_count": null,
      "metadata": {
        "id": "TH1vNEl0g30a"
      },
      "outputs": [],
      "source": [
        "# agrupar municípios em microrregiões\n",
        "# somando os valores da variável para os municípios contidos em cada microrregião\n",
        "micros = br.dissolve(by=['micro', 'nome_micro', 'nome_uf'], aggfunc='sum')\n",
        "micros.head(3)"
      ]
    },
    {
      "cell_type": "code",
      "source": [
        "micros.shape"
      ],
      "metadata": {
        "id": "HnCvf6u_EnH3"
      },
      "execution_count": null,
      "outputs": []
    },
    {
      "cell_type": "code",
      "execution_count": null,
      "metadata": {
        "id": "PRaAkQe7g31B"
      },
      "outputs": [],
      "source": [
        "# reiniciar índices e retirar as colunas que não serão usadas\n",
        "micros = micros.reset_index()\n",
        "retirar = ['mun', 'uf', 'meso', 'cod_rgi', 'cod_rgint', 'codmun6', 'regiao', 'area']\n",
        "micros = micros.drop(retirar, axis=1)\n",
        "micros.head(3)"
      ]
    },
    {
      "cell_type": "code",
      "source": [
        "micros = micros.to_crs(epsg=3395)"
      ],
      "metadata": {
        "id": "K_GZa1qLTcyl"
      },
      "execution_count": null,
      "outputs": []
    },
    {
      "cell_type": "code",
      "execution_count": null,
      "metadata": {
        "id": "Ze_0xvftg31M"
      },
      "outputs": [],
      "source": [
        "# resumo estatístico\n",
        "micros[variavel].describe()"
      ]
    },
    {
      "cell_type": "code",
      "execution_count": null,
      "metadata": {
        "id": "A9rgXAyeg31T"
      },
      "outputs": [],
      "source": [
        "micros[variavel].hist();"
      ]
    },
    {
      "cell_type": "code",
      "execution_count": null,
      "metadata": {
        "id": "P517C5aTg31b"
      },
      "outputs": [],
      "source": [
        "# boxplot\n",
        "sns.boxplot(micros[variavel], orient='v');"
      ]
    },
    {
      "cell_type": "code",
      "execution_count": null,
      "metadata": {
        "id": "Yw22ShkNg31g"
      },
      "outputs": [],
      "source": [
        "# visualizar as microrregiões em ordem decrescente (ou crescente)\n",
        "micros.sort_values(variavel, ascending=False)[['nome_micro', 'nome_uf', variavel]].head(10)"
      ]
    },
    {
      "cell_type": "code",
      "execution_count": null,
      "metadata": {
        "id": "R7yHe3ikg31n"
      },
      "outputs": [],
      "source": [
        "# mapa simples\n",
        "micros.plot();"
      ]
    },
    {
      "cell_type": "code",
      "execution_count": null,
      "metadata": {
        "id": "pEXFhiabg31s"
      },
      "outputs": [],
      "source": [
        "# mapa temático - quantiles\n",
        "micros.plot(column=variavel, figsize=(10, 10), scheme='Quantiles', cmap='OrRd', legend=True, k=4);"
      ]
    },
    {
      "cell_type": "code",
      "execution_count": null,
      "metadata": {
        "id": "bbSr3BuRg31z"
      },
      "outputs": [],
      "source": [
        "# mapa temático - equal_interval\n",
        "micros.plot(column=variavel, figsize=(10, 10), scheme='Equal_Interval', cmap='OrRd', legend=True, k=4);"
      ]
    },
    {
      "cell_type": "code",
      "execution_count": null,
      "metadata": {
        "id": "qM1ULzOw6yhj"
      },
      "outputs": [],
      "source": [
        "# mapa temático - fisher_jenks\n",
        "micros.plot(column=variavel, figsize=(10, 10), scheme='fisher_jenks', cmap='OrRd', legend=True, k=4);"
      ]
    },
    {
      "cell_type": "code",
      "execution_count": null,
      "metadata": {
        "id": "53C747rvg314"
      },
      "outputs": [],
      "source": [
        "# obter matriz de vizinhança no formato queen\n",
        "w = Queen.from_dataframe(micros)\n",
        "w.transform = 'r'\n",
        "# calcular I de Moran global para a variável escolhida\n",
        "y = micros[variavel].values\n",
        "moran = Moran(y, w)\n",
        "moran.I"
      ]
    },
    {
      "cell_type": "code",
      "execution_count": null,
      "metadata": {
        "id": "SkLeZXuTg32D"
      },
      "outputs": [],
      "source": [
        "# valor-p\n",
        "moran.p_sim"
      ]
    },
    {
      "cell_type": "code",
      "execution_count": null,
      "metadata": {
        "id": "eyv9Nq3Gg32R"
      },
      "outputs": [],
      "source": [
        "# mapa LISA\n",
        "moran_loc = Moran_Local(y, w)\n",
        "lisa_cluster(moran_loc, micros, p=0.05, figsize = (9,9));"
      ]
    },
    {
      "cell_type": "code",
      "source": [
        "# mapa LISA com nomes dos significativos\n",
        "fig, ax = plt.subplots(1, figsize=(20, 20))\n",
        "lisa_cluster(moran_loc, micros, p=0.05, ax=ax, figsize = (9,9));\n",
        "sig = moran_loc.p_sim < 0.05  \n",
        "posicoes = np.where(sig)\n",
        "escolhidos = micros.iloc[posicoes[0]]\n",
        "for j in escolhidos.index:\n",
        "    ax.text(escolhidos.geometry.centroid[j].coords[0][0], escolhidos.geometry.centroid[j].coords[0][1], \n",
        "         escolhidos.nome_micro[j],\n",
        "         fontsize=10, horizontalalignment='center', verticalalignment='bottom')"
      ],
      "metadata": {
        "id": "ggef7SvFYB4r"
      },
      "execution_count": null,
      "outputs": []
    },
    {
      "cell_type": "markdown",
      "metadata": {
        "id": "BCDOsAi07tnz"
      },
      "source": [
        "# Tarefa 2\n",
        "\n",
        "Eu utilizei o nível de agregação microrregiões para os dados do Brasil. Usando a mesma variável já utilizada, escolha outro nível de agregação (mesorregiões, regiões imediatas, regiões intermediárias ou mesmo estados) e faça a análise completa:\n",
        "\n",
        "- obtenha o mapa temático que você achar mais adequado (quantis, intervalos iguais, fisher-jenks ou definido por você) e ANALISE (apontando como estão distribuídos os valores no território brasileiro)\n",
        "- obtenha o valor do *I* de Moran e valor-*p* e ANALISE (o valor do *I* é significativo? O que isso quer dizer? Qual a interpretação prática para a variável em questão?) \n",
        "- obtenha o mapa LISA com os nomes das observações significativas e ANALISE (apontando quais foram os *clusters* espaciais, *outliers* espaciais)\n",
        "\n"
      ]
    },
    {
      "cell_type": "code",
      "source": [
        ""
      ],
      "metadata": {
        "id": "F9TPJKhIGraX"
      },
      "execution_count": null,
      "outputs": []
    },
    {
      "cell_type": "markdown",
      "source": [
        "# Tarefa 3\n",
        "\n",
        "Compare suas conclusões obtidas na tarefa 2 (com o nível de agregação escolhido por você) com o que foi obtido por mim para as microrregiões:\n",
        "\n",
        "- há semelhanças?\n",
        "- há diferenças?\n",
        "- aponte o que notou de interessante ao comparar os dois níveis de agragação (microrregiões *versus* nível escolhido por você)"
      ],
      "metadata": {
        "id": "1ccU6IEZGsA2"
      }
    },
    {
      "cell_type": "markdown",
      "source": [
        "Digite aqui sua análise da tarefa 3.\n",
        "\n",
        "\n"
      ],
      "metadata": {
        "id": "FX_smxsWHOY4"
      }
    }
  ],
  "metadata": {
    "colab": {
      "collapsed_sections": [],
      "name": "Sidra_RN_PT.ipynb",
      "provenance": [],
      "toc_visible": true,
      "include_colab_link": true
    },
    "kernelspec": {
      "display_name": "Python 3",
      "language": "python",
      "name": "python3"
    },
    "language_info": {
      "codemirror_mode": {
        "name": "ipython",
        "version": 3
      },
      "file_extension": ".py",
      "mimetype": "text/x-python",
      "name": "python",
      "nbconvert_exporter": "python",
      "pygments_lexer": "ipython3",
      "version": "3.7.2"
    }
  },
  "nbformat": 4,
  "nbformat_minor": 0
}