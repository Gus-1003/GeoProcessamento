{
  "nbformat": 4,
  "nbformat_minor": 0,
  "metadata": {
    "colab": {
      "provenance": [],
      "collapsed_sections": [],
      "include_colab_link": true
    },
    "kernelspec": {
      "display_name": "Python 3",
      "language": "python",
      "name": "python3"
    }
  },
  "cells": [
    {
      "cell_type": "markdown",
      "metadata": {
        "id": "view-in-github",
        "colab_type": "text"
      },
      "source": [
        "<a href=\"https://colab.research.google.com/github/Gus-1003/Geoestatistica_Estudos_Dados/blob/main/Semagraria/Patricia_aula1_dataframes.ipynb\" target=\"_parent\"><img src=\"https://colab.research.google.com/assets/colab-badge.svg\" alt=\"Open In Colab\"/></a>"
      ]
    },
    {
      "cell_type": "markdown",
      "metadata": {
        "id": "fZiScdkph9u3"
      },
      "source": [
        "## *Dataframes* no Python"
      ]
    },
    {
      "cell_type": "markdown",
      "metadata": {
        "id": "kyGB1vTPh9u9"
      },
      "source": [
        "Itens a serem vistos:\n",
        "\n",
        "- leitura de *dataframes* com o pandas  \n",
        "- manipulação de *dataframes*  \n",
        "- medidas resumo\n",
        "- gráficos e diagramas de dispersão"
      ]
    },
    {
      "cell_type": "markdown",
      "metadata": {
        "id": "bwOKVBHEh9vB"
      },
      "source": [
        "*Dataframes*:\n",
        "\n",
        "- expressam o conteúdo de planilhas\n",
        "- uma das principais estruturas de dados (usamos o pacote *pandas*)\n",
        "- bidimensionais e heterogêneos\n",
        "- linhas representam as observações (começando na posição 0)\n",
        "- colunas representam as variáveis\n",
        "- podem ser importados (.csv, .xls etc.) ou podem ser criados"
      ]
    },
    {
      "cell_type": "code",
      "metadata": {
        "id": "iPTv8mJih9vG"
      },
      "source": [
        "import pandas as pd\n",
        "\n",
        "# para gráficos\n",
        "%matplotlib inline\n",
        "import matplotlib.pyplot as plt\n",
        "import seaborn as sns\n",
        "sns.set(style='whitegrid', palette='pastel') "
      ],
      "execution_count": null,
      "outputs": []
    },
    {
      "cell_type": "markdown",
      "metadata": {
        "id": "YLWkASC4h9vP"
      },
      "source": [
        "**Usando pandas (dataframes)**"
      ]
    },
    {
      "cell_type": "markdown",
      "metadata": {
        "id": "SRinYD0SBZrr"
      },
      "source": [
        "Lendo arquivo csv a partir de um link. Os dados foram retirados do PAM (Produção Agrícola Municipal) do IBGE: \n",
        "\n",
        "- dados de MG em 2017 \n",
        "- quantidade total (toneladas) produzida de 14 culturas\n",
        "- informações por município"
      ]
    },
    {
      "cell_type": "code",
      "metadata": {
        "id": "Y5944zu7jT7H"
      },
      "source": [
        "# ler uma planilha csv\n",
        "dados = pd.read_csv('https://raw.githubusercontent.com/patriciasiqueira/patriciasiqueira.github.io/master/arquivos/qtde-14.csv', encoding='latin1')"
      ],
      "execution_count": null,
      "outputs": []
    },
    {
      "cell_type": "code",
      "metadata": {
        "id": "ACsHK9vVBV7g"
      },
      "source": [
        "# visualizar parte das linhas do dataframe\n",
        "dados.head()"
      ],
      "execution_count": null,
      "outputs": []
    },
    {
      "cell_type": "markdown",
      "metadata": {
        "id": "o2G6ymv0BgGw"
      },
      "source": [
        "Lendo arquivo csv salvo no computador:\n",
        "\n",
        "Primeiro é preciso carregar o arquivo no painel à esquerda\n",
        "\n",
        "- Arquivos > Fazer upload\n"
      ]
    },
    {
      "cell_type": "code",
      "metadata": {
        "id": "gyeH-iN5Agrl"
      },
      "source": [
        "# ler um arquivo salvo no computador\n",
        "dados1 = pd.read_csv('populacao_argentina.csv', encoding='latin1')\n",
        "dados1.head()"
      ],
      "execution_count": null,
      "outputs": []
    },
    {
      "cell_type": "markdown",
      "metadata": {
        "id": "WC6soMM-B3x_"
      },
      "source": [
        "Não usaremos esse conjunto de dados nessa aula. Ele serviu apenas para exemplificar como carregar um arquivo que está salvo no computador."
      ]
    },
    {
      "cell_type": "markdown",
      "metadata": {
        "id": "JpKgBEhzCBnR"
      },
      "source": [
        "Continuando com o conjunto de dados do PAM 2017:"
      ]
    },
    {
      "cell_type": "code",
      "metadata": {
        "id": "bRByF-neh9ve"
      },
      "source": [
        "# verificar os tipos de dados\n",
        "dados.dtypes"
      ],
      "execution_count": null,
      "outputs": []
    },
    {
      "cell_type": "code",
      "metadata": {
        "id": "MVTwFCMJRgYE"
      },
      "source": [
        "# nomes das variáveis\n",
        "dados.columns"
      ],
      "execution_count": null,
      "outputs": []
    },
    {
      "cell_type": "code",
      "metadata": {
        "id": "GD78bLz2h9xL"
      },
      "source": [
        "# renomear colunas\n",
        "# 'ibge7' será 'mun' (código do município)\n",
        "# 'mun' será 'município' (nome do município)\n",
        "dados.rename(columns={'mun': 'municipio'}, inplace=True)  # inplace = True modifica o dataframe\n",
        "dados.rename(columns={'ibge7': 'mun'}, inplace=True)"
      ],
      "execution_count": null,
      "outputs": []
    },
    {
      "cell_type": "code",
      "metadata": {
        "id": "J5-WdZC6h9yG"
      },
      "source": [
        "# mostrar apenas os valores\n",
        "dados.values"
      ],
      "execution_count": null,
      "outputs": []
    },
    {
      "cell_type": "code",
      "metadata": {
        "id": "A8Cniv51h9yT"
      },
      "source": [
        "# transpor se necessário\n",
        "dados.T"
      ],
      "execution_count": null,
      "outputs": []
    },
    {
      "cell_type": "markdown",
      "metadata": {
        "collapsed": true,
        "id": "GebEwpGDh9yz"
      },
      "source": [
        "**Medidas resumo (estatísticas)**"
      ]
    },
    {
      "cell_type": "code",
      "metadata": {
        "id": "v2543zivh9y2"
      },
      "source": [
        "# resumo estatístico de uma variável\n",
        "dados.describe()"
      ],
      "execution_count": null,
      "outputs": []
    },
    {
      "cell_type": "code",
      "metadata": {
        "id": "26A-sMLnLXq6"
      },
      "source": [
        "dados.iloc[:, 3:].describe()"
      ],
      "execution_count": null,
      "outputs": []
    },
    {
      "cell_type": "code",
      "metadata": {
        "id": "05ttra0Uh9y9"
      },
      "source": [
        "# média\n",
        "dados.mean()"
      ],
      "execution_count": null,
      "outputs": []
    },
    {
      "cell_type": "code",
      "metadata": {
        "id": "yK-Q1k-_h9zE"
      },
      "source": [
        "# histograma de uma das culturas\n",
        "dados.cafe_arab.plot.hist();"
      ],
      "execution_count": null,
      "outputs": []
    },
    {
      "cell_type": "code",
      "metadata": {
        "id": "5tH6orgFh9zH"
      },
      "source": [
        "dados.cafe_arab.plot.hist(bins=3);"
      ],
      "execution_count": null,
      "outputs": []
    },
    {
      "cell_type": "code",
      "metadata": {
        "id": "HYHcnWAsh9zM"
      },
      "source": [
        "# histograma suavizado\n",
        "dados.cafe_arab.plot.kde();"
      ],
      "execution_count": null,
      "outputs": []
    },
    {
      "cell_type": "code",
      "metadata": {
        "id": "C8AnFriSh9zU"
      },
      "source": [
        "# valor máximo de uma variável\n",
        "dados.cafe_arab.max()"
      ],
      "execution_count": null,
      "outputs": []
    },
    {
      "cell_type": "code",
      "metadata": {
        "id": "kEnJzewph9ze"
      },
      "source": [
        "# retornar o município com valor máximo de alguma variável\n",
        "dados.sort_values('cafe_arab', ascending=False).head(10)"
      ],
      "execution_count": null,
      "outputs": []
    },
    {
      "cell_type": "code",
      "metadata": {
        "id": "yWefoPrQh9zj"
      },
      "source": [
        "# como seria para mostrar o menor valor?\n",
        "dados.sort_values('cafe_arab', ascending=True).head(20)"
      ],
      "execution_count": null,
      "outputs": []
    },
    {
      "cell_type": "code",
      "metadata": {
        "id": "R-t1JaM4h9zs"
      },
      "source": [
        "# variância\n",
        "dados.cana.var()"
      ],
      "execution_count": null,
      "outputs": []
    },
    {
      "cell_type": "code",
      "metadata": {
        "id": "X46-ZpL8h9zy"
      },
      "source": [
        "# desvio padrão\n",
        "dados.cana.std()"
      ],
      "execution_count": null,
      "outputs": []
    },
    {
      "cell_type": "code",
      "metadata": {
        "id": "tHty-98vh9z2"
      },
      "source": [
        "# correlação entre duas variáveis\n",
        "dados.cana.corr(dados.cafe_arab)"
      ],
      "execution_count": null,
      "outputs": []
    },
    {
      "cell_type": "code",
      "metadata": {
        "id": "FEHfWHXHh9z4"
      },
      "source": [
        "# correlação entre todas as variáveis do conjunto de dados\n",
        "dados.corr()"
      ],
      "execution_count": null,
      "outputs": []
    },
    {
      "cell_type": "code",
      "metadata": {
        "id": "LTSYLoCIDtQ7"
      },
      "source": [
        "sns.boxplot(dados.cafe_arab, orient='v');"
      ],
      "execution_count": null,
      "outputs": []
    },
    {
      "cell_type": "code",
      "metadata": {
        "id": "upao_w6EEWU8"
      },
      "source": [
        "sns.boxplot(dados.query('cafe_arab < 10000').cafe_arab, orient='v');"
      ],
      "execution_count": null,
      "outputs": []
    },
    {
      "cell_type": "code",
      "metadata": {
        "id": "8YPdomZ9Euj_"
      },
      "source": [
        "q3 = dados.cafe_arab.quantile(.75)   # terceiro quartil\n",
        "sns.boxplot(dados.query('cafe_arab < @q3').cafe_arab, orient='v');"
      ],
      "execution_count": null,
      "outputs": []
    },
    {
      "cell_type": "markdown",
      "metadata": {
        "id": "96lInea0h9yu"
      },
      "source": [
        "**Diagrama de dispersão**"
      ]
    },
    {
      "cell_type": "code",
      "metadata": {
        "id": "yoAamKxJh9yv"
      },
      "source": [
        "dados.plot.scatter('cafe_arab', 'cana', s=50, c='blue');"
      ],
      "execution_count": null,
      "outputs": []
    },
    {
      "cell_type": "code",
      "metadata": {
        "id": "49u63kDoh90J"
      },
      "source": [
        "dados.describe()"
      ],
      "execution_count": null,
      "outputs": []
    },
    {
      "cell_type": "code",
      "metadata": {
        "id": "c3eKVM54h90L"
      },
      "source": [
        "# mostrar os 5 municípios com maiores produções de café\n",
        "dados.sort_values('cafe_arab', ascending=False).round(0).head(5)"
      ],
      "execution_count": null,
      "outputs": []
    },
    {
      "cell_type": "code",
      "metadata": {
        "id": "RN_w-SWdh90S"
      },
      "source": [
        "# agrupar por meso\n",
        "dados.groupby('nome_meso').cafe_arab.mean()"
      ],
      "execution_count": null,
      "outputs": []
    },
    {
      "cell_type": "code",
      "metadata": {
        "id": "48LNTjdOh90U"
      },
      "source": [
        "# ordenar o resultado anterior\n",
        "dados.groupby('nome_meso').cafe_arab.mean().sort_values(ascending=False).round(2)"
      ],
      "execution_count": null,
      "outputs": []
    },
    {
      "cell_type": "markdown",
      "metadata": {
        "id": "dqOseE86h90g"
      },
      "source": [
        "**Mostrar valores que atendam a alguma condição específica:**"
      ]
    },
    {
      "cell_type": "code",
      "metadata": {
        "id": "41sv2Ww7h90i"
      },
      "source": [
        "# Mostrar os municípios que têm produção da cultura\n",
        "dados.query('cafe_arab > 0')"
      ],
      "execution_count": null,
      "outputs": []
    },
    {
      "cell_type": "code",
      "metadata": {
        "id": "Or45wdhSFEaN"
      },
      "source": [
        "# outro comando com a mesma ideia\n",
        "dados[dados.cafe_arab > 0]"
      ],
      "execution_count": null,
      "outputs": []
    },
    {
      "cell_type": "code",
      "metadata": {
        "id": "VH467beJGWji"
      },
      "source": [
        "dados[dados.abacaxi > 0].shape"
      ],
      "execution_count": null,
      "outputs": []
    }
  ]
}